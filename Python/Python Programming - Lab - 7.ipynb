{
 "cells": [
  {
   "cell_type": "markdown",
   "metadata": {},
   "source": [
    "<a href='https://www.darshan.ac.in/'> <img src='https://www.darshan.ac.in/Content/media/DU_Logo.svg' width=\"250\" height=\"300\"/></a>\n",
    "<pre>\n",
    "<center><b><h1>Python Programming - 2101CS405</b></center>\n",
    "<center><b><h1>Lab - 7</b></center>    \n",
    "<pre>"
   ]
  },
  {
   "cell_type": "markdown",
   "metadata": {},
   "source": [
    "# Functions"
   ]
  },
  {
   "cell_type": "markdown",
   "metadata": {},
   "source": [
    "### 01) WAP to count simple interest using function."
   ]
  },
  {
   "cell_type": "code",
   "execution_count": 4,
   "metadata": {},
   "outputs": [
    {
     "name": "stdout",
     "output_type": "stream",
     "text": [
      "Enter pricipal amount :8\n",
      "Enter interest rate :8\n",
      "Enter time in year :7\n",
      "4.48\n"
     ]
    }
   ],
   "source": [
    "def Ans(p,r,n) :\n",
    "    intrest = p*r*n/100\n",
    "    print(intrest)\n",
    "\n",
    "p = float(input('Enter pricipal amount :'))\n",
    "r = float(input('Enter interest rate :'))\n",
    "n = float(input('Enter time in year :'))\n",
    "\n",
    "Ans(p,r,n)"
   ]
  },
  {
   "cell_type": "markdown",
   "metadata": {},
   "source": [
    "### 02) WAP that defines a function to add first n numbers."
   ]
  },
  {
   "cell_type": "code",
   "execution_count": 9,
   "metadata": {},
   "outputs": [
    {
     "name": "stdout",
     "output_type": "stream",
     "text": [
      "Enter Number :5\n",
      "15\n"
     ]
    }
   ],
   "source": [
    "def ans(n) :\n",
    "    a=sum(range(n+1))\n",
    "    print(a)\n",
    "n = int(input('Enter Number :'))\n",
    "ans(n)"
   ]
  },
  {
   "cell_type": "markdown",
   "metadata": {},
   "source": [
    "### 03) WAP to find maximum number from given two numbers using function."
   ]
  },
  {
   "cell_type": "code",
   "execution_count": 21,
   "metadata": {},
   "outputs": [
    {
     "name": "stdout",
     "output_type": "stream",
     "text": [
      "Enter Number1 :5\n",
      "Enter Number2 :8\n",
      "Maximum Number is 8.0\n"
     ]
    }
   ],
   "source": [
    "n1 = float(input('Enter Number1 :'))\n",
    "n2 = float(input('Enter Number2 :'))\n",
    "def Maxi(n1,n2):\n",
    "    if(n1 > n2):print('Maximum Number is',n1)\n",
    "    else:print('Maximum Number is',n2)\n",
    "Maxi(n1,n2)"
   ]
  },
  {
   "cell_type": "markdown",
   "metadata": {},
   "source": [
    "### 04) WAP that defines a function which returns 1 if the number is prime otherwise return 0."
   ]
  },
  {
   "cell_type": "code",
   "execution_count": 43,
   "metadata": {},
   "outputs": [
    {
     "name": "stdout",
     "output_type": "stream",
     "text": [
      "Enter Number :9\n"
     ]
    },
    {
     "data": {
      "text/plain": [
       "0"
      ]
     },
     "execution_count": 43,
     "metadata": {},
     "output_type": "execute_result"
    }
   ],
   "source": [
    "n = int(input('Enter Number :'))\n",
    "def Prime(n):\n",
    "    for i in range (2,n//2+1):\n",
    "        if (n%i==0):\n",
    "            return 0\n",
    "    else : \n",
    "        return 1\n",
    "Prime(n)"
   ]
  },
  {
   "cell_type": "markdown",
   "metadata": {},
   "source": [
    "### 05) Write a function called primes that takes an integer value as an argument and returns a list of all prime numbers up to that number."
   ]
  },
  {
   "cell_type": "code",
   "execution_count": 45,
   "metadata": {},
   "outputs": [
    {
     "name": "stdout",
     "output_type": "stream",
     "text": [
      "Enter Number :11\n",
      "[2, 3, 5, 7, 11]\n"
     ]
    }
   ],
   "source": [
    "n = int(input('Enter Number :'))\n",
    "a=[i for i in range(2,n+1)]\n",
    "b=list(filter(Prime,a))\n",
    "print(b)"
   ]
  },
  {
   "cell_type": "markdown",
   "metadata": {},
   "source": [
    "### 06) WAP to generate Fibonacci series of N given number using function name fibbo. (e.g. 0 1 1 2 3 5 8...)"
   ]
  },
  {
   "cell_type": "code",
   "execution_count": 60,
   "metadata": {},
   "outputs": [
    {
     "name": "stdout",
     "output_type": "stream",
     "text": [
      "Enter Number :20\n"
     ]
    },
    {
     "data": {
      "text/plain": [
       "[0, 1, 1, 2, 3, 5, 8, 13]"
      ]
     },
     "execution_count": 60,
     "metadata": {},
     "output_type": "execute_result"
    }
   ],
   "source": [
    "def fibbo(n):\n",
    "    fib=[0, 1]\n",
    "    \n",
    "    while fib[-1] + fib[-2] <= n:\n",
    "        fib.append(fib[-1] + fib[-2])\n",
    "        \n",
    "    return fib\n",
    "N = int(input('Enter Number :'))\n",
    "fibbo(N)\n"
   ]
  },
  {
   "cell_type": "markdown",
   "metadata": {},
   "source": [
    "### 07) WAP to find the factorial of a given number using recursion."
   ]
  },
  {
   "cell_type": "code",
   "execution_count": 4,
   "metadata": {},
   "outputs": [
    {
     "name": "stdout",
     "output_type": "stream",
     "text": [
      "Enter Number :7\n",
      "factorial  7 is 5040\n"
     ]
    }
   ],
   "source": [
    "def fact(n):\n",
    "   if n == 1:\n",
    "       return n\n",
    "   else:\n",
    "       return n*fact(n-1)\n",
    "\n",
    "\n",
    "n = int(input('Enter Number :'))\n",
    "if n < 0:\n",
    "   print(\"Sorry, negative numbers\")\n",
    "elif n == 0:\n",
    "   print(\"The factorial of 0 is 1\")\n",
    "else:\n",
    "   print(\"factorial \", n, \"is\", fact(n))\n"
   ]
  },
  {
   "cell_type": "markdown",
   "metadata": {},
   "source": [
    "### 08) WAP to implement simple calculator using lamda function."
   ]
  },
  {
   "cell_type": "code",
   "execution_count": 7,
   "metadata": {},
   "outputs": [
    {
     "name": "stdout",
     "output_type": "stream",
     "text": [
      "Enter Number1 :8\n",
      "Enter Number2 :74\n",
      "Enter Operation + - * / :*\n"
     ]
    },
    {
     "data": {
      "text/plain": [
       "592.0"
      ]
     },
     "execution_count": 7,
     "metadata": {},
     "output_type": "execute_result"
    }
   ],
   "source": [
    "n1 = float(input('Enter Number1 :'))\n",
    "n2 = float(input('Enter Number2 :'))\n",
    "op = input('Enter Operation + - * / :')\n",
    "ans = lambda n1,n2,op : n1+n2 if op=='+' else n1-n2 if op=='-' else n1*n2 if op=='*' else n1//n2 if op=='/' else 'Wrong Operation'\n",
    "ans(n1,n2,op)"
   ]
  },
  {
   "cell_type": "markdown",
   "metadata": {},
   "source": [
    "### 09)Write a Python program that accepts a hyphen-separated sequence of words as input and prints the words in a hyphen-separated sequence after sorting them alphabetically\n",
    "Sample Items : green-red-yellow-black-white <br>\n",
    "Expected Result : black-green-red-white-yellow"
   ]
  },
  {
   "cell_type": "code",
   "execution_count": 74,
   "metadata": {},
   "outputs": [
    {
     "name": "stdout",
     "output_type": "stream",
     "text": [
      "Enter Stringf-a-t-e-w\n",
      "a-e-f-t-w\n"
     ]
    }
   ],
   "source": [
    "s = input('Enter String').split('-')\n",
    "s.sort()\n",
    "print('-'.join(s))"
   ]
  },
  {
   "cell_type": "markdown",
   "metadata": {},
   "source": [
    "### 10) Write a python program to implement all function arguments type\n",
    "Positional arguments <Br>\n",
    "Default argument <Br>\n",
    "Keyword arguments (named arguments) <Br>\n",
    "Arbitrary arguments (variable-length arguments args and kwargs)"
   ]
  },
  {
   "cell_type": "code",
   "execution_count": 95,
   "metadata": {},
   "outputs": [
    {
     "name": "stdout",
     "output_type": "stream",
     "text": [
      "Hello, Alice! How are you today?\n",
      "Hello, Bob! Good day!\n",
      "Hello, Charlie! Have a nice day!\n",
      "Hello, David!\n",
      "Hello, Emma!\n",
      "Hello, Frank!\n",
      "Hello, Alice! Nice to meet you!\n",
      "Hello, Bob! Greetings!\n",
      "Hello, Charlie! Welcome!\n"
     ]
    }
   ],
   "source": [
    "def f1(n, m):\n",
    "    print(f\"Hello, {n}! {m}\")\n",
    "\n",
    "def default(n, m=\"Good day!\"):\n",
    "    print(f\"Hello, {n}! {m}\")\n",
    "\n",
    "def keyword(n, m):\n",
    "    print(f\"Hello, {n}! {m}\")\n",
    "\n",
    "def arbitrary1(*n):\n",
    "    for name in n:\n",
    "        print(f\"Hello, {name}!\")\n",
    "        \n",
    "def arbitrary2(**pm):\n",
    "    for p, m in pm.items():\n",
    "        print(f\"Hello, {p}! {m}\")\n",
    "\n",
    "f1(\"Alice\", \"How are you today?\") \n",
    "default(\"Bob\")  \n",
    "keyword(m=\"Have a nice day!\", n=\"Charlie\") \n",
    "arbitrary1(\"David\", \"Emma\", \"Frank\") \n",
    "arbitrary2(Alice=\"Nice to meet you!\", Bob=\"Greetings!\", Charlie=\"Welcome!\")\n"
   ]
  },
  {
   "cell_type": "markdown",
   "metadata": {},
   "source": [
    "### 01) WAP to calculate power of a number using recursion."
   ]
  },
  {
   "cell_type": "code",
   "execution_count": 11,
   "metadata": {},
   "outputs": [
    {
     "name": "stdout",
     "output_type": "stream",
     "text": [
      "Enter the base number: 5\n",
      "Enter the exponent: 3\n",
      "5.0 raised to the power of 3 is: 125.0\n"
     ]
    }
   ],
   "source": [
    "def power(base, exponent):\n",
    "    if exponent == 0:\n",
    "        return 1\n",
    "    else:\n",
    "        return base * power(base, exponent - 1)\n",
    "\n",
    "b = float(input(\"Enter the base number: \"))\n",
    "e = int(input(\"Enter the exponent: \"))\n",
    "\n",
    "r = power(b, e)\n",
    "print(f\"{b} raised to the power of {e} is: {r}\")\n"
   ]
  },
  {
   "cell_type": "markdown",
   "metadata": {},
   "source": [
    "### 02) WAP to count digits of a number using recursion."
   ]
  },
  {
   "cell_type": "code",
   "execution_count": 13,
   "metadata": {},
   "outputs": [
    {
     "name": "stdout",
     "output_type": "stream",
     "text": [
      "Enter a number: 10\n",
      "The number of digits in 10 is: 2\n"
     ]
    }
   ],
   "source": [
    "def count(n):\n",
    "    if n < 10:\n",
    "        return 1\n",
    "    else:\n",
    "        return 1 + count(n // 10)\n",
    "\n",
    "n = int(input(\"Enter a number: \"))\n",
    "\n",
    "digit = count(n)\n",
    "print(f\"The number of digits in {n} is: {digit}\")\n"
   ]
  },
  {
   "cell_type": "markdown",
   "metadata": {},
   "source": [
    "### 03) WAP to reverse an integer number using recursion."
   ]
  },
  {
   "cell_type": "code",
   "execution_count": 18,
   "metadata": {},
   "outputs": [
    {
     "name": "stdout",
     "output_type": "stream",
     "text": [
      "Enter an integer to reverse: 852\n",
      "Reversed number: 258\n"
     ]
    }
   ],
   "source": [
    "def reverse(n, c=0):\n",
    "    if n == 0:\n",
    "        return c\n",
    "    else:\n",
    "        lastdig = n % 10\n",
    "        c = c * 10 + lastdig\n",
    "        return reverse(n // 10, c)\n",
    "\n",
    "n = int(input(\"Enter an integer to reverse: \"))\n",
    "a = reverse(n)\n",
    "print(\"Reversed number:\", a)\n"
   ]
  },
  {
   "cell_type": "markdown",
   "metadata": {},
   "source": [
    "### 04) WAP to convert decimal number into binary using recursion."
   ]
  },
  {
   "cell_type": "code",
   "execution_count": 20,
   "metadata": {},
   "outputs": [
    {
     "name": "stdout",
     "output_type": "stream",
     "text": [
      "Enter a decimal number: 10\n",
      "The binary representation of 10 is: 1010\n"
     ]
    }
   ],
   "source": [
    "def dtb(n):\n",
    "    if n == 0:\n",
    "        return ''\n",
    "    else:\n",
    "        binary = dtb(n // 2)\n",
    "        return binary + str(n % 2)\n",
    "\n",
    "dec = int(input(\"Enter a decimal number: \"))\n",
    "\n",
    "bin = dtb(dec)\n",
    "print(f\"The binary representation of {dec} is: {bin}\")\n"
   ]
  }
 ],
 "metadata": {
  "kernelspec": {
   "display_name": "Python 3 (ipykernel)",
   "language": "python",
   "name": "python3"
  },
  "language_info": {
   "codemirror_mode": {
    "name": "ipython",
    "version": 3
   },
   "file_extension": ".py",
   "mimetype": "text/x-python",
   "name": "python",
   "nbconvert_exporter": "python",
   "pygments_lexer": "ipython3",
   "version": "3.11.5"
  }
 },
 "nbformat": 4,
 "nbformat_minor": 4
}
