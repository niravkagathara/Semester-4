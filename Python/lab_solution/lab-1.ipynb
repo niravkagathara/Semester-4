{
 "cells": [
  {
   "cell_type": "markdown",
   "metadata": {},
   "source": [
    "<a href='https://www.darshan.ac.in/'> <img src='https://www.darshan.ac.in/Content/media/DU_Logo.svg' width=\"250\" height=\"300\"/></a>\n",
    "<pre>\n",
    "<center><b><h1>Python Programming - 2101CS405</b></center>\n",
    "<center><b><h1>Lab - 1</b></center>    \n",
    "<pre>"
   ]
  },
  {
   "cell_type": "code",
   "execution_count": 1,
   "metadata": {},
   "outputs": [
    {
     "name": "stdout",
     "output_type": "stream",
     "text": [
      "nirav kagathara rollno-416 22010101443\n"
     ]
    }
   ],
   "source": [
    "print(\"nirav kagathara rollno-416 22010101443\")"
   ]
  },
  {
   "cell_type": "markdown",
   "metadata": {},
   "source": [
    "### 01) WAP to print “Hello World”"
   ]
  },
  {
   "cell_type": "code",
   "execution_count": 2,
   "metadata": {},
   "outputs": [
    {
     "name": "stdout",
     "output_type": "stream",
     "text": [
      "hello Word\n"
     ]
    }
   ],
   "source": [
    "print(\"hello Word\")"
   ]
  },
  {
   "cell_type": "markdown",
   "metadata": {},
   "source": [
    "### 02) WAP to print your address i) using single print ii) using multiple print"
   ]
  },
  {
   "cell_type": "code",
   "execution_count": 1,
   "metadata": {},
   "outputs": [
    {
     "name": "stdout",
     "output_type": "stream",
     "text": [
      "gundala road, gondal\n",
      "gundala road,\n",
      "gondal\n"
     ]
    }
   ],
   "source": [
    "print(\"gundala road, gondal\")\n",
    "print(\"gundala road,\")\n",
    "print(\"gondal\")"
   ]
  },
  {
   "cell_type": "markdown",
   "metadata": {},
   "source": [
    "### 03) WAP to print addition of 2 numbers (without input function)"
   ]
  },
  {
   "cell_type": "code",
   "execution_count": 3,
   "metadata": {},
   "outputs": [
    {
     "name": "stdout",
     "output_type": "stream",
     "text": [
      "4\n"
     ]
    }
   ],
   "source": [
    "print(1+3);\n"
   ]
  },
  {
   "cell_type": "markdown",
   "metadata": {},
   "source": [
    "### 04) WAP to calculate and print average of 2 numbers (without input function)"
   ]
  },
  {
   "cell_type": "code",
   "execution_count": 3,
   "metadata": {},
   "outputs": [
    {
     "name": "stdout",
     "output_type": "stream",
     "text": [
      "1.5\n"
     ]
    }
   ],
   "source": [
    "print((1+2)/2)"
   ]
  },
  {
   "cell_type": "markdown",
   "metadata": {},
   "source": [
    "### 05) WAP to add two number entered by user."
   ]
  },
  {
   "cell_type": "code",
   "execution_count": 7,
   "metadata": {},
   "outputs": [
    {
     "name": "stdout",
     "output_type": "stream",
     "text": [
      "enter 1st number2\n",
      "enter 2nd number3\n",
      "5\n"
     ]
    }
   ],
   "source": [
    "a=int(input(\"enter 1st number\"));\n",
    "b=int(input(\"enter 2nd number\"));\n",
    "print(a+b);\n"
   ]
  },
  {
   "cell_type": "markdown",
   "metadata": {},
   "source": [
    "### 06) WAP to calculate simple interest."
   ]
  },
  {
   "cell_type": "code",
   "execution_count": 5,
   "metadata": {},
   "outputs": [
    {
     "name": "stdout",
     "output_type": "stream",
     "text": [
      "enter amount5\n",
      "enter interest rate8\n",
      "enter time in year6\n",
      "2.4\n"
     ]
    }
   ],
   "source": [
    "a=int(input(\"enter amount\"))\n",
    "b=int(input(\"enter interest rate\"))\n",
    "t=int(input(\"enter time in year\"))\n",
    "print((a*b*t)/100)"
   ]
  },
  {
   "cell_type": "markdown",
   "metadata": {},
   "source": [
    "### 07) WAP Calculate Area and Circumfrence of Circle"
   ]
  },
  {
   "cell_type": "code",
   "execution_count": 10,
   "metadata": {},
   "outputs": [
    {
     "name": "stdout",
     "output_type": "stream",
     "text": [
      "enter radius of circle12\n",
      "452.15999999999997\n"
     ]
    }
   ],
   "source": [
    "a=int(input(\"enter radius of circle\"))\n",
    "print((3.14)*(a)*(a))"
   ]
  },
  {
   "cell_type": "markdown",
   "metadata": {},
   "source": [
    "### 08) WAP to print Multiplication table of given number without using loops."
   ]
  },
  {
   "cell_type": "code",
   "execution_count": 17,
   "metadata": {},
   "outputs": [
    {
     "name": "stdout",
     "output_type": "stream",
     "text": [
      "enter number you want the table3\n",
      "3 x  1  = 3\n",
      "3 x  2  = 6\n",
      "3 x  3  = 9\n",
      "3 x  4  = 12\n",
      "3 x  5  = 15\n",
      "3 x  6  = 18\n",
      "3 x  7  = 21\n",
      "3 x  8  = 24\n",
      "3 x  9  = 27\n",
      "3 x  10  = 30\n"
     ]
    }
   ],
   "source": [
    "a=int(input(\"enter number you want the table\"));\n",
    "print(a ,\"x  1  =\",a);\n",
    "print(a ,\"x  2  =\",(a*2))\n",
    "print(a ,\"x  3  =\",(a*3))\n",
    "print(a ,\"x  4  =\",(a*4))\n",
    "print(a ,\"x  5  =\",(a*5))\n",
    "print(a ,\"x  6  =\",(a*6))\n",
    "print(a ,\"x  7  =\",(a*7))\n",
    "print(a ,\"x  8  =\",(a*8))\n",
    "print(a ,\"x  9  =\",(a*9))\n",
    "print(a ,\"x  10  =\",(a*10))\n"
   ]
  },
  {
   "cell_type": "markdown",
   "metadata": {},
   "source": [
    "### 09) WAP to calculate Area of Triangle (hint: a = h * b * 0.5)"
   ]
  },
  {
   "cell_type": "code",
   "execution_count": 22,
   "metadata": {},
   "outputs": [
    {
     "name": "stdout",
     "output_type": "stream",
     "text": [
      "enter height of triangle12\n",
      "enter base of tringle3\n",
      "18.0\n"
     ]
    }
   ],
   "source": [
    "a=int(input(\"enter height of triangle\"))\n",
    "b=int(input(\"enter base of tringle\"))\n",
    "print(a*b*0.5)"
   ]
  },
  {
   "cell_type": "markdown",
   "metadata": {},
   "source": [
    "### 10) WAP to convert degree to Fahrenheit and vice versa."
   ]
  },
  {
   "cell_type": "code",
   "execution_count": 20,
   "metadata": {},
   "outputs": [
    {
     "name": "stdout",
     "output_type": "stream",
     "text": [
      "enter celcius13\n",
      "55.400000000000006\n"
     ]
    }
   ],
   "source": [
    "a=int(input(\"enter celcius\"))\n",
    "print((a*(9/5))+32)"
   ]
  },
  {
   "cell_type": "markdown",
   "metadata": {},
   "source": [
    "### 11) WAP to calculate total marks and Percentage."
   ]
  },
  {
   "cell_type": "code",
   "execution_count": 10,
   "metadata": {},
   "outputs": [
    {
     "name": "stdout",
     "output_type": "stream",
     "text": [
      "enter mark of english5\n",
      "enter mark of java85\n",
      "enter mark of C5\n",
      "total mark:-1 95\n",
      "persantage is 31.666666666666668 %\n"
     ]
    }
   ],
   "source": [
    "a=int(input(\"enter mark of english\"))\n",
    "b=int(input(\"enter mark of java\"))\n",
    "c=int(input(\"enter mark of C\"))\n",
    "\n",
    "print(\"total mark:-1\",a+b+c)\n",
    "print(\"persantage is\",((a+b+c)*100)/300,\"%\")\n"
   ]
  },
  {
   "cell_type": "markdown",
   "metadata": {},
   "source": [
    "### 12) Compute distance between two points taking input from the user (Pythagorean Theorem)."
   ]
  },
  {
   "cell_type": "code",
   "execution_count": 38,
   "metadata": {},
   "outputs": [
    {
     "name": "stdout",
     "output_type": "stream",
     "text": [
      "enter value of point one1\n",
      "enter value of point two1\n",
      "enter value of point one-one1\n",
      "enter value of point two-two1\n",
      "0.0\n"
     ]
    }
   ],
   "source": [
    "a=int(input(\"enter value of point one\"))\n",
    "b=int(input(\"enter value of point two\"))\n",
    "a1=int(input(\"enter value of point one-one\"))\n",
    "b1=int(input(\"enter value of point two-two\"))\n",
    "\n",
    "print((((a-a1)**2)+((b-b1)**2))**(1/2));"
   ]
  },
  {
   "cell_type": "markdown",
   "metadata": {},
   "source": [
    "### 13) WAP to convert seconds into hours, minutes & seconds and print in HH:MM:SS\n",
    "[e.g. 10000 seconds mean 2:46:40 (2 Hours, 46 Minutes, 40Seconds)]"
   ]
  },
  {
   "cell_type": "code",
   "execution_count": null,
   "metadata": {},
   "outputs": [],
   "source": [
    "a=int(input(\"enter seconds\"))\n",
    "b=int(a/60)\n",
    "h=int(b/60)\n",
    "m=int(b-(h*60))\n",
    "s=int(a-((h*3600)+(m*60)))\n",
    "print(h,\":\",m,\":\",s)"
   ]
  },
  {
   "cell_type": "markdown",
   "metadata": {},
   "source": [
    "### 14) WAP to enter distance into kilometer and convert it into meter, feet,inches, and centimeter"
   ]
  },
  {
   "cell_type": "code",
   "execution_count": 57,
   "metadata": {},
   "outputs": [
    {
     "name": "stdout",
     "output_type": "stream",
     "text": [
      "enter distance in kilometer1\n",
      "meter:  1000.0 \n",
      "feet:  3280.84 \n",
      "inches:  39371.08 \n",
      "centimeter:  100000.0\n"
     ]
    }
   ],
   "source": [
    "a=float(input(\"enter distance in kilometer\"));\n",
    "m=float(a*1000);\n",
    "c=float(m*100);\n",
    "i=float(a*39371.08);\n",
    "f=float(a*3280.84);\n",
    "print(\"meter: \", m ,\"\\nfeet: \", f ,\"\\ninches: \", i ,\"\\ncentimeter: \", c);"
   ]
  }
 ],
 "metadata": {
  "kernelspec": {
   "display_name": "Python 3 (ipykernel)",
   "language": "python",
   "name": "python3"
  },
  "language_info": {
   "codemirror_mode": {
    "name": "ipython",
    "version": 3
   },
   "file_extension": ".py",
   "mimetype": "text/x-python",
   "name": "python",
   "nbconvert_exporter": "python",
   "pygments_lexer": "ipython3",
   "version": "3.11.5"
  },
  "vscode": {
   "interpreter": {
    "hash": "31f2aee4e71d21fbe5cf8b01ff0e069b9275f58929596ceb00d14d90e3e16cd6"
   }
  }
 },
 "nbformat": 4,
 "nbformat_minor": 4
}
