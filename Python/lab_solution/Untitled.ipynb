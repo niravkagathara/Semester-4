{
 "cells": [
  {
   "cell_type": "markdown",
   "id": "745e4e65",
   "metadata": {},
   "source": [
    "### 1) convert all lowercase letters to uppercase letters and vice versa.(without using swapcase method)\n",
    "\tFor Example:\n",
    "\t\tPythonist 2 → pYTHONIST 2  "
   ]
  },
  {
   "cell_type": "code",
   "execution_count": 49,
   "id": "12e36732",
   "metadata": {},
   "outputs": [
    {
     "name": "stdout",
     "output_type": "stream",
     "text": [
      "enter string : HeLLo NiRaV 123\n"
     ]
    },
    {
     "data": {
      "text/plain": [
       "'hEllO nIrAv 123'"
      ]
     },
     "execution_count": 49,
     "metadata": {},
     "output_type": "execute_result"
    }
   ],
   "source": [
    "x=input(\"enter string : \")\n",
    "y=''\n",
    "for i in x:\n",
    "    if(i.islower()):\n",
    "        y += i.upper()\n",
    "    else:\n",
    "        y += i.lower()\n",
    "    \n",
    "\n",
    "y"
   ]
  },
  {
   "cell_type": "markdown",
   "id": "117d18f9",
   "metadata": {},
   "source": [
    "### 2) Pascal triangle\n",
    "\tFor Example:\n",
    "                    1\n",
    "\t\t\t      1    1\n",
    "\t            1\t 2    1\n",
    "\t\t\t  1   3     3    1\n",
    "\t\t\t1   4    6    4    1\n",
    "\n",
    "\n",
    "dynamic pro"
   ]
  },
  {
   "cell_type": "code",
   "execution_count": 61,
   "id": "5145f596",
   "metadata": {},
   "outputs": [
    {
     "name": "stdout",
     "output_type": "stream",
     "text": [
      "             1\n",
      "           1   1\n",
      "         1   2   1\n",
      "       1   3   3   1\n",
      "     1   4   6   4   1\n"
     ]
    }
   ],
   "source": [
    "n = 5\n",
    "list1 = [] \n",
    "for i in range(n):\n",
    "    print(\"  \"*((n-i)), end=\"\")\n",
    "        \n",
    "    for j in range(i+1):\n",
    "        if j == 0 or j == i:\n",
    "            print(f\"{1:4d}\", end = \"\")\n",
    "            list1.append(1)\n",
    "        else:\n",
    "            x = list1[j] + list1[j-1]\n",
    "            print(f\"{x:4d}\", end = \"\")\n",
    "            list1.append(x)\n",
    "    list1 = list1[i:]\n",
    "    print()"
   ]
  },
  {
   "cell_type": "markdown",
   "id": "6a9b81a6",
   "metadata": {},
   "source": [
    "### method 2\n",
    "math"
   ]
  },
  {
   "cell_type": "code",
   "execution_count": 63,
   "id": "f98ac263",
   "metadata": {},
   "outputs": [
    {
     "name": "stdout",
     "output_type": "stream",
     "text": [
      "            \n",
      "             1\n",
      "           1   1\n",
      "         1   2   1\n",
      "       1   3   3   1\n",
      "     1   4   6   4   1\n"
     ]
    }
   ],
   "source": [
    "n = 6\n",
    "for i in range(n):\n",
    "    print(\"  \"*((n-i)), end=\"\")\n",
    "    \n",
    "    x=1   \n",
    "    for j in range(1, i+1):  \n",
    "      print(f'{x:4d}', end='')  \n",
    "      x = x * (i - j) // j  \n",
    "    print()"
   ]
  },
  {
   "cell_type": "markdown",
   "id": "0cd0fb20",
   "metadata": {},
   "source": [
    "### using combination nCr"
   ]
  },
  {
   "cell_type": "code",
   "execution_count": 54,
   "id": "b3483386",
   "metadata": {},
   "outputs": [
    {
     "name": "stdout",
     "output_type": "stream",
     "text": [
      "                     1\n",
      "                   1   1\n",
      "                 1   2   1\n",
      "               1   3   3   1\n",
      "             1   4   6   4   1\n",
      "           1   5  10  10   5   1\n",
      "         1   6  15  20  15   6   1\n",
      "       1   7  21  35  35  21   7   1\n",
      "     1   8  28  56  70  56  28   8   1\n"
     ]
    }
   ],
   "source": [
    "def fact(n):\n",
    "    fact = 1\n",
    "    for i in range(1,n+1):\n",
    "        fact *= i\n",
    "    return fact\n",
    "    \n",
    "def nCr(n,r):\n",
    "    # nCr = n!/((n-r)!*r!)\n",
    "    return (fact(n)//(fact(r)*fact(n-r)))\n",
    "\n",
    "n = 9\n",
    "for i in range(n):\n",
    "    print(\"  \"*((n-i)), end=\"\")\n",
    "    \n",
    "    for j in range(i+1):\n",
    "        print(f\"{nCr(i,j):4d}\", end=\"\")\n",
    "    print()"
   ]
  },
  {
   "cell_type": "markdown",
   "id": "d7be50a3",
   "metadata": {},
   "source": [
    "### as power of 11"
   ]
  },
  {
   "cell_type": "code",
   "execution_count": 55,
   "id": "26ffee49",
   "metadata": {},
   "outputs": [
    {
     "name": "stdout",
     "output_type": "stream",
     "text": [
      "                     1\n",
      "                   1   1\n",
      "                 1   2   1\n",
      "               1   3   3   1\n",
      "             1   4   6   4   1\n",
      "           1   5  10  10   5   1\n",
      "         1   6  15  20  15   6   1\n",
      "       1   7  21  35  35  21   7   1\n",
      "     1   8  28  56  70  56  28   8   1\n"
     ]
    }
   ],
   "source": [
    "def createArr(n):\n",
    "    if n == 0:\n",
    "        return [1]\n",
    "    else :\n",
    "        z = [1]\n",
    "        for i in range(len(x) -1):\n",
    "            z.append(x[i] + x[i+1])\n",
    "        z.append(1)\n",
    "        return z\n",
    "\n",
    "n = 9\n",
    "for i in range(n):\n",
    "    \n",
    "    print(\"  \"*((n-i)), end=\"\")\n",
    "    \n",
    "    x = createArr(i)\n",
    "    for i in x:\n",
    "        print(f\"{i:4d}\",end =\"\")\n",
    "    print()\n",
    "\n",
    "    "
   ]
  },
  {
   "cell_type": "code",
   "execution_count": 57,
   "id": "357317f7",
   "metadata": {},
   "outputs": [
    {
     "name": "stdout",
     "output_type": "stream",
     "text": [
      "* * * * * * * * * * * * * \n",
      "* * * * * \n",
      "  * * * * * * *     * * * \n",
      "* * * * \n",
      "    * * * * *         * * \n",
      "* * * \n",
      "      * * *             * \n",
      "* * \n",
      "        *                 \n",
      "* \n",
      "            * * * * * * * \n",
      "              * * * * * \n",
      "                * * * \n",
      "                  * \n"
     ]
    }
   ],
   "source": [
    "def printPattern(n):\n",
    "    for i in range(n):\n",
    "      for j in range(i):\n",
    "        print(\"  \", end=\"\")\n",
    "      for j in range(2*(n - i) -1):\n",
    "        print(\"* \", end=\"\")\n",
    "      for j in range(2*i):\n",
    "        print(\"  \", end=\"\")\n",
    "      for j in range(n-i-1):\n",
    "        print(\"* \", end=\"\")\n",
    "      print()\n",
    "      for j in range(n-i):\n",
    "        print(\"* \", end=\"\")\n",
    "      print()\n",
    "\n",
    "    for i in range(n-1):\n",
    "      print(\"  \"*n, end=\"  \")\n",
    "      for j in range(i):\n",
    "        print(\"  \", end=\"\")\n",
    "      for j in range(2*(n-1 - i) -1):\n",
    "        print(\"* \", end=\"\")\n",
    "    \n",
    "      print()\n",
    "    return\n",
    "printPattern(5)"
   ]
  },
  {
   "cell_type": "code",
   "execution_count": 58,
   "id": "a796efd5",
   "metadata": {},
   "outputs": [
    {
     "name": "stdout",
     "output_type": "stream",
     "text": [
      "* * * * * * * * * * \n",
      "* * * * \n",
      "  * * * * *     * * \n",
      "* * * \n",
      "    * * *         * \n",
      "* * \n",
      "      *             \n",
      "* \n",
      "          * * * * * \n",
      "            * * * \n",
      "              * \n"
     ]
    }
   ],
   "source": [
    "printPattern(4)\n"
   ]
  },
  {
   "cell_type": "code",
   "execution_count": 59,
   "id": "f75b6902",
   "metadata": {},
   "outputs": [
    {
     "name": "stdout",
     "output_type": "stream",
     "text": [
      "* * * * * * * * * * * * * \n",
      "* * * * * \n",
      "  * * * * * * *     * * * \n",
      "* * * * \n",
      "    * * * * *         * * \n",
      "* * * \n",
      "      * * *             * \n",
      "* * \n",
      "        *                 \n",
      "* \n",
      "            * * * * * * * \n",
      "              * * * * * \n",
      "                * * * \n",
      "                  * \n"
     ]
    }
   ],
   "source": [
    "n=5\n",
    "for i in range(1,2*n+1):\n",
    "  if i %2 != 0 :\n",
    "    i=i//2\n",
    "    for i in range(1,i+1):\n",
    "      print(\"  \",end=\"\")\n",
    "    for j in range(2*(n-i)-1):\n",
    "      print(\"* \",end=\"\")\n",
    "    for j in range(2*i):\n",
    "      print(\"  \",end=\"\")\n",
    "    for j in range(n-i-1):\n",
    "      print(\"* \",end=\"\")\n",
    "    print()\n",
    "  else:\n",
    "    for j in range(n-i//2+1):\n",
    "      print(\"* \",end=\"\")\n",
    "    print()\n",
    "      \n",
    "for i in range(n-1):\n",
    "  print(\"  \"*n, end=\"  \")\n",
    "  for j in range(i):\n",
    "    print(\"  \", end=\"\")\n",
    "  for j in range(2*(n-1 - i) -1):\n",
    "    print(\"* \", end=\"\")\n",
    "\n",
    "  print()"
   ]
  },
  {
   "cell_type": "code",
   "execution_count": 60,
   "id": "7f64e3d2",
   "metadata": {},
   "outputs": [
    {
     "name": "stdout",
     "output_type": "stream",
     "text": [
      "3\n"
     ]
    }
   ],
   "source": [
    "stri = \"ABCDCDCDC\"\n",
    "subStr = \"CDC\"\n",
    "subStrCount = 0\n",
    "for i in range(len(stri) - len(subStr) + 1):\n",
    "    if stri[i] == subStr[0]:\n",
    "        for j in range(1,len(subStr)):\n",
    "            if stri[i+j] != subStr[j]:\n",
    "                break\n",
    "        else:\n",
    "            subStrCount += 1\n",
    "print(subStrCount)"
   ]
  }
 ],
 "metadata": {
  "kernelspec": {
   "display_name": "Python 3 (ipykernel)",
   "language": "python",
   "name": "python3"
  },
  "language_info": {
   "codemirror_mode": {
    "name": "ipython",
    "version": 3
   },
   "file_extension": ".py",
   "mimetype": "text/x-python",
   "name": "python",
   "nbconvert_exporter": "python",
   "pygments_lexer": "ipython3",
   "version": "3.11.5"
  }
 },
 "nbformat": 4,
 "nbformat_minor": 5
}
