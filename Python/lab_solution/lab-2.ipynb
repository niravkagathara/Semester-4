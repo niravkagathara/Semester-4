{
 "cells": [
  {
   "cell_type": "markdown",
   "metadata": {},
   "source": [
    "\n",
    "<a href='https://www.darshan.ac.in/'> <img src='https://www.darshan.ac.in/Content/media/DU_Logo.svg' width=\"250\" height=\"300\"/></a>\n",
    "<pre>\n",
    "<center><b><h1>Python Programming - 2101CS405</b></center>\n",
    "<center><b><h1>Lab - 2</b></center>    \n",
    "<pre>"
   ]
  },
  {
   "cell_type": "code",
   "execution_count": 33,
   "metadata": {},
   "outputs": [
    {
     "name": "stdout",
     "output_type": "stream",
     "text": [
      "5\n",
      " Nirav \n",
      "Kagathara \n",
      "G  \n",
      " nirav \n",
      "kagathara \n",
      "g  \n",
      " NIRAV \n",
      "KAGATHARA \n",
      "G  \n",
      "True\n",
      "False\n",
      "False\n",
      "True\n",
      "nirav \n",
      "kagathara \n",
      "g\n",
      " nirav \n",
      "kagathara \n",
      "g\n",
      "nirav \n",
      "kagathara \n",
      "g  \n",
      "3\n",
      "15\n",
      " niarv \n",
      "kagathaar \n",
      "g  \n",
      "3\n",
      "15\n",
      "-1\n"
     ]
    }
   ],
   "source": [
    "x=''' nirav \n",
    "kagathara \n",
    "g  '''\n",
    "v=x.title()\n",
    "print(x.count(\"a\"))\n",
    "print(v)\n",
    "print(x.lower())\n",
    "print(x.upper())\n",
    "print(x.islower())\n",
    "print(x.isupper())\n",
    "print(x.istitle())\n",
    "print(v.istitle())\n",
    "print(x.strip())\n",
    "print(x.rstrip())\n",
    "print(x.lstrip())\n",
    "print(x.find('ra'))\n",
    "print(x.rfind('ra'))\n",
    "print(x.replace('ra',\"ar\"))\n",
    "print(x.index('ra'))\n",
    "print(x.rindex('ra'))\n",
    "print(x.find('x'))\n",
    "# print(x.index('y'))"
   ]
  },
  {
   "cell_type": "code",
   "execution_count": 56,
   "metadata": {},
   "outputs": [
    {
     "name": "stdout",
     "output_type": "stream",
     "text": [
      "nirav kagathara\n",
      "False\n",
      "True\n",
      "False\n",
      "True\n",
      "True\n",
      "True\n"
     ]
    }
   ],
   "source": [
    "x=\"nirav kagathara\"\n",
    "y=\"xyz12\"\n",
    "z=\"123\"\n",
    "print(x)\n",
    "print(x.isalnum())\n",
    "print(y.isalnum())\n",
    "print(x.isalpha())\n",
    "print(z.isnumeric())\n",
    "print(z.isdecimal())\n",
    "# print(z.isnuberic())\n",
    "print(z.isdigit())\n",
    "\n",
    "\n",
    "\n",
    "\n"
   ]
  },
  {
   "cell_type": "code",
   "execution_count": 60,
   "metadata": {},
   "outputs": [
    {
     "name": "stdout",
     "output_type": "stream",
     "text": [
      "darshan institute of engineering and technology, rajkot, gujarat, INDIA\n"
     ]
    }
   ],
   "source": [
    "x='darshan institute of engineering and technology, rajkot, gujarat, INDIA'\n",
    "\n",
    "print(x[::])\n",
    "print(x[::])"
   ]
  },
  {
   "cell_type": "code",
   "execution_count": 6,
   "metadata": {},
   "outputs": [
    {
     "name": "stdout",
     "output_type": "stream",
     "text": [
      "a\n"
     ]
    }
   ],
   "source": [
    "x=\"Darshan\"[-2]\n",
    "print(x)\n"
   ]
  },
  {
   "cell_type": "markdown",
   "metadata": {},
   "source": [
    "### 01) WAP to check whether the given number is positive or negative."
   ]
  },
  {
   "cell_type": "code",
   "execution_count": 4,
   "metadata": {},
   "outputs": [
    {
     "name": "stdout",
     "output_type": "stream",
     "text": [
      "enter the number:5\n",
      "number is positive\n"
     ]
    }
   ],
   "source": [
    "a=int(input(\"enter the number:\"));\n",
    "if(a>0):\n",
    "    print(\"number is positive\");\n",
    "elif(a<0):\n",
    "    print(\"number is negative\");\n",
    "else:\n",
    "    print(\"number is zero\");"
   ]
  },
  {
   "cell_type": "markdown",
   "metadata": {},
   "source": [
    "### 02) WAP to check whether the given number is odd or even"
   ]
  },
  {
   "cell_type": "code",
   "execution_count": 12,
   "metadata": {},
   "outputs": [
    {
     "name": "stdout",
     "output_type": "stream",
     "text": [
      "enter the number:3\n",
      "odd number\n"
     ]
    }
   ],
   "source": [
    "a=int(input(\"enter the number:\"));\n",
    "if(a%2==0):\n",
    "    print(\"even number\");\n",
    "else:\n",
    "    print(\"odd number\");"
   ]
  },
  {
   "cell_type": "markdown",
   "metadata": {},
   "source": [
    "### 03) WAP to find out largest number from given two numbers using simple if and ternary operator."
   ]
  },
  {
   "cell_type": "code",
   "execution_count": 11,
   "metadata": {},
   "outputs": [
    {
     "name": "stdout",
     "output_type": "stream",
     "text": [
      "enter no1:8\n",
      "enter no2:9\n",
      "no2 is greater\n"
     ]
    }
   ],
   "source": [
    "    a=int(input(\"enter no1:\"));\n",
    "    b=int(input(\"enter no2:\"));\n",
    "    print(\"no1 is gerater\") if a>b else print(\"no2 is greater\");"
   ]
  },
  {
   "cell_type": "markdown",
   "metadata": {},
   "source": [
    "### 04) WAP to find out largest number from given three numbers."
   ]
  },
  {
   "cell_type": "code",
   "execution_count": 13,
   "metadata": {},
   "outputs": [
    {
     "name": "stdout",
     "output_type": "stream",
     "text": [
      "enter no1:9\n",
      "enter no2:8\n",
      "enter no3:7\n",
      "no.1 is greater\n"
     ]
    }
   ],
   "source": [
    "    a=int(input(\"enter no1:\"));\n",
    "    b=int(input(\"enter no2:\"));\n",
    "    c=int(input(\"enter no3:\"));\n",
    "    if(a>b):\n",
    "        if(a>c):\n",
    "            print(\"no.1 is greater\")\n",
    "        else:\n",
    "            print(\"no.2 is greater\")\n",
    "    else:\n",
    "        if(b>c):\n",
    "            print(\"no.2 is greater\")\n",
    "        else:\n",
    "            print(\"no.3 is greater\")"
   ]
  },
  {
   "cell_type": "markdown",
   "metadata": {},
   "source": [
    "### 05) WAP to check whether the given year is leap year or not.\n",
    "[If a year can be divisible by 4 but not divisible by 100 then it is leap year but if it is divisible by 400 then it is leap year]"
   ]
  },
  {
   "cell_type": "code",
   "execution_count": 19,
   "metadata": {},
   "outputs": [
    {
     "name": "stdout",
     "output_type": "stream",
     "text": [
      "enter a year:2015\n",
      "2015 is not a leep year\n"
     ]
    }
   ],
   "source": [
    "year = int(input(\"enter a year:\"));\n",
    "\n",
    "if(year % 400 == 0) and (year % 100 == 0):\n",
    "    print(f\"{year} is a leep year\");\n",
    "elif(year % 4 == 0) and (year % 100 != 0):\n",
    "    print(f\"{year} is a leep year\");\n",
    "else:\n",
    "    print(f\"{year} is not a leep year\");"
   ]
  },
  {
   "cell_type": "markdown",
   "metadata": {},
   "source": [
    "### 06) WAP in python to display the name of the day according to the number given by the user"
   ]
  },
  {
   "cell_type": "code",
   "execution_count": 21,
   "metadata": {},
   "outputs": [
    {
     "name": "stdout",
     "output_type": "stream",
     "text": [
      "Enter Day: 7\n",
      "saturday\n"
     ]
    }
   ],
   "source": [
    "no=int(input(\"Enter Day: \"))\n",
    "if(no==1):\n",
    "    print(\"sunday\")\n",
    "elif(no==2):\n",
    "    print(\"monday\")\n",
    "elif(no==3):\n",
    "    print(\"tuesday\")\n",
    "elif(no==4):\n",
    "    print(\"wednesday\")\n",
    "elif(no==5):\n",
    "    print(\"thursday\")\n",
    "elif(no==6):\n",
    "    print(\"friday\")\n",
    "elif(no==7):\n",
    "    print(\"saturday\")\n",
    "else:\n",
    "    print(\"not valid\")"
   ]
  },
  {
   "cell_type": "markdown",
   "metadata": {},
   "source": [
    "### 07) WAP to implement simple calculator which performs (add,sub,mul,div) of two no. based on user input."
   ]
  },
  {
   "cell_type": "code",
   "execution_count": 27,
   "metadata": {},
   "outputs": [
    {
     "name": "stdout",
     "output_type": "stream",
     "text": [
      "enter the first number:20\n",
      "enter thr secound number:40\n",
      "enter the operation you want to perform(+,-,*,/): +\n",
      "ans:60\n"
     ]
    }
   ],
   "source": [
    "a=int(input(\"enter the first number:\"));\n",
    "b=int(input(\"enter thr secound number:\"));\n",
    "op=input(\"enter the operation you want to perform(+,-,*,/): \")\n",
    "\n",
    "if(op==\"+\"):\n",
    "    print(f\"ans:{a+b}\");\n",
    "elif(op==\"-\"):\n",
    "    print(f\"ans:{a-b}\");\n",
    "elif(op==\"*\"):\n",
    "    print(f\"ans:{a*b}\");\n",
    "elif(op==\"/\"):\n",
    "    print(f\"ans:{a/b}\");\n",
    "else:\n",
    "    printf(\"Invalid operation. Please enter one of the following: +, -, *, /\")"
   ]
  },
  {
   "cell_type": "markdown",
   "metadata": {},
   "source": [
    "### 08) WAP to calculate electricity bill based on following criteria. Which takes the unit from the user.\n",
    "a. First 1 to 50 units – Rs. 2.60/unit</br>\n",
    "b. Next 50 to 100 units – Rs. 3.25/unit</br>\n",
    "c. Next 100 to 200 units – Rs. 5.26/unit</br>\n",
    "d. above 200 units – Rs. 8.45/unit"
   ]
  },
  {
   "cell_type": "code",
   "execution_count": 29,
   "metadata": {},
   "outputs": [
    {
     "name": "stdout",
     "output_type": "stream",
     "text": [
      "Enter the number of units : 33\n",
      "The electricity bill for 33 units is Rs. 85.8\n"
     ]
    }
   ],
   "source": [
    "units = int(input(\"Enter the number of units : \"))\n",
    "if (units <= 50):\n",
    "    bill = units * 2.60\n",
    "elif (units <= 100):\n",
    "    bill = 50 * 2.60 + (units - 50) * 3.25\n",
    "elif (units <= 200):\n",
    "    bill = 50 * 2.60 + 50 * 3.25 + (units - 100) * 5.26\n",
    "else:\n",
    "    bill = 50 * 2.60 + 50 * 3.25 + 100 * 5.26 + (units - 200) * 8.45\n",
    "    \n",
    "print(f\"The electricity bill for {units} units is Rs. {bill}\")"
   ]
  },
  {
   "cell_type": "markdown",
   "metadata": {},
   "source": [
    "### 01) WAP to read marks of five subjects. Calculate percentage and print class accordingly. \n",
    "Fail below 35 </br>\n",
    "Pass Class between 35 to 45 </br>\n",
    "Second Class</br>\n",
    "between 45 to 60</br>\n",
    "First Class between 60 to 70</br> \n",
    "Distinction if more than 70"
   ]
  },
  {
   "cell_type": "code",
   "execution_count": 31,
   "metadata": {},
   "outputs": [
    {
     "name": "stdout",
     "output_type": "stream",
     "text": [
      "Enter the marks of subject 1: 50\n",
      "Enter the marks of subject 2: 50\n",
      "Enter the marks of subject 3: 50\n",
      "Enter the marks of subject 4: 50\n",
      "Enter the marks of subject 5: 50\n",
      "secound class\n"
     ]
    }
   ],
   "source": [
    "sub1 = int(input(\"Enter the marks of subject 1: \"))\n",
    "sub2 = int(input(\"Enter the marks of subject 2: \"))\n",
    "sub3 = int(input(\"Enter the marks of subject 3: \"))\n",
    "sub4 = int(input(\"Enter the marks of subject 4: \"))\n",
    "sub5 = int(input(\"Enter the marks of subject 5: \"))\n",
    "\n",
    "total_marks = sub1 + sub2 + sub3 + sub4 + sub5\n",
    "percentage = (total_marks / 500) * 100\n",
    "if percentage < 35:\n",
    "    print(\"fail\")\n",
    "elif percentage < 45:\n",
    "    print(\"pass\")\n",
    "elif percentage < 60:\n",
    "    print(\"secound class\")\n",
    "elif percentage < 70:\n",
    "    print(\"First class\")\n",
    "else:\n",
    "    print(\"Distinction class\")\n"
   ]
  },
  {
   "cell_type": "markdown",
   "metadata": {},
   "source": [
    "### 02) WAP to find out the Maximum and Minimum number from given 4 numbers."
   ]
  },
  {
   "cell_type": "code",
   "execution_count": 4,
   "metadata": {},
   "outputs": [
    {
     "name": "stdout",
     "output_type": "stream",
     "text": [
      "Enter the first number: 1\n",
      "Enter the second number: 2\n",
      "Enter the third number: 3\n",
      "Enter the fourth number: 4\n",
      "d is max\n",
      "a is min\n"
     ]
    }
   ],
   "source": [
    "a = int(input(\"Enter the first number: \"))\n",
    "b = int(input(\"Enter the second number: \"))\n",
    "c = int(input(\"Enter the third number: \"))\n",
    "d = int(input(\"Enter the fourth number: \"))\n",
    "\n",
    "if(a>b and b>c and c>d):\n",
    "    print(\"a is max\")\n",
    "elif(b>c and c>d and d>a):\n",
    "    print(\"b is max\")\n",
    "elif(c>d and d>a and a>b):\n",
    "    print(\"c is max\")\n",
    "else:\n",
    "    print(\"d is max\")\n",
    "    \n",
    "if(a<b and b<c and c<d):\n",
    "    print(\"a is min\")\n",
    "elif(b<c and c<d and d<a):\n",
    "    print(\"b is min\")\n",
    "elif(c<d and d<a and a<b):\n",
    "    print(\"c is min\")\n",
    "else:\n",
    "    print(\"d is min\")\n",
    "\n",
    "\n"
   ]
  },
  {
   "cell_type": "markdown",
   "metadata": {},
   "source": [
    "### 03) WAP to input an integer number and check the last digit of number is even or odd."
   ]
  },
  {
   "cell_type": "code",
   "execution_count": 39,
   "metadata": {},
   "outputs": [
    {
     "name": "stdout",
     "output_type": "stream",
     "text": [
      "Enter an integer: 13\n",
      "The last digit of 13 is odd\n"
     ]
    }
   ],
   "source": [
    "num = int(input(\"Enter an integer: \"))\n",
    "if num % 10 % 2 == 0:\n",
    "    print(f\"The last digit of {num} is even\")\n",
    "else:\n",
    "    print(f\"The last digit of {num} is odd\")\n"
   ]
  },
  {
   "cell_type": "markdown",
   "metadata": {},
   "source": [
    "### 04) WAP to determine the roots of the equation ax2+bx+c=0."
   ]
  },
  {
   "cell_type": "code",
   "execution_count": 42,
   "metadata": {},
   "outputs": [
    {
     "name": "stdout",
     "output_type": "stream",
     "text": [
      "Enter the coefficient a: 2\n",
      "Enter the coefficient b: 4\n",
      "Enter the coefficient c: 6\n",
      "The roots are -1.0 + 1.4142135623730951 and -1.0- 1.4142135623730951.\n"
     ]
    }
   ],
   "source": [
    "import math\n",
    "a = int(input(\"Enter the coefficient a: \"))\n",
    "b = int(input(\"Enter the coefficient b: \"))\n",
    "c = int(input(\"Enter the coefficient c: \"))\n",
    "\n",
    "dis = b**2 - 4*a*c\n",
    "\n",
    "if dis > 0:\n",
    "    root1 = (-b + math.sqrt(dis)) / (2*a)\n",
    "    root2 = (-b - math.sqrt(dis)) / (2*a)\n",
    "    print(f\"The roots are {root1} and {root2}.\")\n",
    "elif dis == 0:\n",
    "    root = -b / (2*a)\n",
    "    print(f\"The root is {root:.2f}.\")\n",
    "else:\n",
    "    r = -b / (2*a)\n",
    "    i = math.sqrt(-dis) / (2*a)\n",
    "    print(f\"The roots are {r} + {i} and {r}- {i}.\")"
   ]
  }
 ],
 "metadata": {
  "kernelspec": {
   "display_name": "Python 3 (ipykernel)",
   "language": "python",
   "name": "python3"
  },
  "language_info": {
   "codemirror_mode": {
    "name": "ipython",
    "version": 3
   },
   "file_extension": ".py",
   "mimetype": "text/x-python",
   "name": "python",
   "nbconvert_exporter": "python",
   "pygments_lexer": "ipython3",
   "version": "3.11.5"
  }
 },
 "nbformat": 4,
 "nbformat_minor": 4
}
