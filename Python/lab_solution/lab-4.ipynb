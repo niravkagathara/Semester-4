{
 "cells": [
  {
   "cell_type": "markdown",
   "metadata": {},
   "source": [
    "\n",
    "<a href='https://www.darshan.ac.in/'> <img src='https://www.darshan.ac.in/Content/media/DU_Logo.svg' width=\"250\" height=\"300\"/></a>\n",
    "<pre>\n",
    "<center><b><h1>Python Programming - 2101CS405</b></center>\n",
    "<center><b><h1>Lab - 4</b></center>    \n",
    "<pre>"
   ]
  },
  {
   "cell_type": "code",
   "execution_count": 32,
   "metadata": {},
   "outputs": [
    {
     "name": "stdout",
     "output_type": "stream",
     "text": [
      "nirav patel from gujarat\n",
      "nirav patel, from gujarat.\n",
      "nirav patel, from gujarat.\n",
      "pr is 61.25 %\n"
     ]
    }
   ],
   "source": [
    "x=\"nirav {} from {}\"\n",
    "# print(x[2::1])\n",
    "print(x.format(\"patel\",\"gujarat\"))\n",
    "x=\"nirav {1} from {0}\"\n",
    "print(x.format(\"gujarat.\",\"patel,\"))\n",
    "\n",
    "x=\"nirav {relogin} from {state}\"\n",
    "print(x.format(state=\"gujarat.\",relogin=\"patel,\"))\n",
    "\n",
    "\n",
    "z=(245/400)*100\n",
    "\n",
    "print(\"pr is {r:3.2f} %\".format(r=z))\n"
   ]
  },
  {
   "cell_type": "markdown",
   "metadata": {},
   "source": [
    "# String"
   ]
  },
  {
   "cell_type": "markdown",
   "metadata": {},
   "source": [
    "### 01) WAP to check given string is palindrome or not."
   ]
  },
  {
   "cell_type": "code",
   "execution_count": 2,
   "metadata": {},
   "outputs": [
    {
     "name": "stdout",
     "output_type": "stream",
     "text": [
      "Enter String :deed\n",
      "Given string is palindrome\n"
     ]
    }
   ],
   "source": [
    "a = input('Enter String :')\n",
    "print('Given string is palindrome')if(a == a[::-1])else print('Given string is not palindrome')"
   ]
  },
  {
   "cell_type": "markdown",
   "metadata": {},
   "source": [
    "### 02) WAP to reverse the words in given string."
   ]
  },
  {
   "cell_type": "code",
   "execution_count": 2,
   "metadata": {},
   "outputs": [
    {
     "name": "stdout",
     "output_type": "stream",
     "text": [
      "Enter String :n i r\n",
      "r i n "
     ]
    }
   ],
   "source": [
    "a = input('Enter String :').split(' ')[::-1]\n",
    "x = ''\n",
    "for i in a:\n",
    "    x += i + ' '\n",
    "print(x,end='')"
   ]
  },
  {
   "cell_type": "markdown",
   "metadata": {},
   "source": [
    "### 03) WAP to remove ith character from given string"
   ]
  },
  {
   "cell_type": "code",
   "execution_count": 4,
   "metadata": {},
   "outputs": [
    {
     "name": "stdout",
     "output_type": "stream",
     "text": [
      "Enter String :Deven\n",
      "Enter i for remove ith character from given string :2\n",
      "Deen\n"
     ]
    }
   ],
   "source": [
    "s1 = input('Enter String :')\n",
    "i = int(input('Enter i for remove ith character from given string :'))\n",
    "s2 = s1[:i] + s1[i+1:]\n",
    "print(s2)    "
   ]
  },
  {
   "cell_type": "code",
   "execution_count": 36,
   "metadata": {},
   "outputs": [
    {
     "name": "stdout",
     "output_type": "stream",
     "text": [
      "niav\n"
     ]
    }
   ],
   "source": [
    "x=\"nirav\"\n",
    "print(x[:2]+x[3:])"
   ]
  },
  {
   "cell_type": "markdown",
   "metadata": {},
   "source": [
    "### 04) WAP to find length of String without using len function."
   ]
  },
  {
   "cell_type": "code",
   "execution_count": 9,
   "metadata": {},
   "outputs": [
    {
     "name": "stdout",
     "output_type": "stream",
     "text": [
      "Enter String :dev\n",
      "3\n"
     ]
    }
   ],
   "source": [
    "st = input('Enter String :')\n",
    "count = 0\n",
    "for i in st:\n",
    "    count += 1\n",
    "print(count)"
   ]
  },
  {
   "cell_type": "markdown",
   "metadata": {},
   "source": [
    "### 05) WAP to print even length word in string."
   ]
  },
  {
   "cell_type": "code",
   "execution_count": 38,
   "metadata": {},
   "outputs": [
    {
     "name": "stdout",
     "output_type": "stream",
     "text": [
      "Enter String :nirav hi nk\n",
      "hi\n",
      "nk\n"
     ]
    }
   ],
   "source": [
    "st = input('Enter String :').split(' ')\n",
    "for i in st:\n",
    "    if(len(i) % 2 == 0):\n",
    "        print(i)"
   ]
  },
  {
   "cell_type": "markdown",
   "metadata": {},
   "source": [
    "### 06) WAP to count numbers of vowels in given string."
   ]
  },
  {
   "cell_type": "code",
   "execution_count": 41,
   "metadata": {},
   "outputs": [
    {
     "name": "stdout",
     "output_type": "stream",
     "text": [
      "Enter string:hi nirav\n",
      "Number of vowels are:\n",
      "3\n"
     ]
    }
   ],
   "source": [
    "string=input(\"Enter string:\")\n",
    "vowels=0\n",
    "for i in string:\n",
    "      if(i=='a' or i=='e' or i=='i' or i=='o' or i=='u' or i=='A' or i=='E' or i=='I' or i=='O' or i=='U'):\n",
    "            vowels=vowels+1\n",
    "print(\"Number of vowels are:\")\n",
    "print(vowels)"
   ]
  },
  {
   "cell_type": "markdown",
   "metadata": {},
   "source": [
    "### 07) WAP to convert given array to string."
   ]
  },
  {
   "cell_type": "code",
   "execution_count": 47,
   "metadata": {},
   "outputs": [
    {
     "name": "stdout",
     "output_type": "stream",
     "text": [
      "nirav is ... \n"
     ]
    }
   ],
   "source": [
    "li=['nirav ','is ','... ']\n",
    "\n",
    "x=''.join(li)\n",
    "print(x)"
   ]
  },
  {
   "cell_type": "markdown",
   "metadata": {},
   "source": [
    "### 01) WAP to find out duplicate characters in given string."
   ]
  },
  {
   "cell_type": "code",
   "execution_count": 48,
   "metadata": {},
   "outputs": [
    {
     "name": "stdout",
     "output_type": "stream",
     "text": [
      "Enter String: nniravja\n"
     ]
    },
    {
     "data": {
      "text/plain": [
       "['n', 'a']"
      ]
     },
     "execution_count": 48,
     "metadata": {},
     "output_type": "execute_result"
    }
   ],
   "source": [
    "str1 = input(\"Enter String: \")\n",
    "l = []\n",
    "\n",
    "for i in str1:\n",
    "    if(str1.count(i)>1 and i not in l):\n",
    "        l.append(i);\n",
    "l"
   ]
  },
  {
   "cell_type": "markdown",
   "metadata": {},
   "source": [
    "### 02) WAP to capitalize the first and last character of each word in a string."
   ]
  },
  {
   "cell_type": "code",
   "execution_count": 53,
   "metadata": {},
   "outputs": [
    {
     "name": "stdout",
     "output_type": "stream",
     "text": [
      "enter stringnirav holl\n",
      "String before: nirav holl\n",
      "String after: NiraV HolL\n"
     ]
    }
   ],
   "source": [
    "s =input(\"enter string\")\n",
    "print(\"String before:\", s)\n",
    "str=' '.join(map(lambda s: s[:-1]+s[-1].upper(),\n",
    "s.title().split()))\n",
    "\n",
    "print(\"String after:\", str)\n"
   ]
  },
  {
   "cell_type": "markdown",
   "metadata": {},
   "source": [
    "### 03) WAP to find Maximum frequency character in String."
   ]
  },
  {
   "cell_type": "code",
   "execution_count": 58,
   "metadata": {},
   "outputs": [
    {
     "name": "stdout",
     "output_type": "stream",
     "text": [
      "The original string is : GeeksforGeeks\n",
      "The maximum of all characters in GeeksforGeeks is : e\n"
     ]
    }
   ],
   "source": [
    "test_str = \"GeeksforGeeks\"\n",
    "print (\"The original string is : \" + test_str)\n",
    "\n",
    "all_freq = {}\n",
    "for i in test_str:\n",
    " if i in all_freq:\n",
    "  all_freq[i] += 1\n",
    " else:\n",
    "  all_freq[i] = 1\n",
    "res = max(all_freq, key = all_freq.get) \n",
    "\n",
    "\n",
    "print (\"The maximum of all characters in GeeksforGeeks is : \" + res)\n"
   ]
  },
  {
   "cell_type": "markdown",
   "metadata": {},
   "source": [
    "### 04) WAP to find Minimum frequency character in String."
   ]
  },
  {
   "cell_type": "code",
   "execution_count": 61,
   "metadata": {},
   "outputs": [
    {
     "name": "stdout",
     "output_type": "stream",
     "text": [
      "The original string is : GeeksforGeeks\n",
      "The minimum of all characters in GeeksforGeeks is : f\n"
     ]
    }
   ],
   "source": [
    "test_str = \"GeeksforGeeks\"\n",
    "print (\"The original string is : \" + test_str)\n",
    "\n",
    "all_freq = {}\n",
    "for i in test_str:\n",
    " if i in all_freq:\n",
    "  all_freq[i] += 1\n",
    " else:\n",
    "  all_freq[i] = 1\n",
    "res = min(all_freq, key = all_freq.get) \n",
    "\n",
    "print (\"The minimum of all characters in GeeksforGeeks is : \" + res)\n"
   ]
  },
  {
   "cell_type": "markdown",
   "metadata": {},
   "source": [
    "### 05) WAP to check if a given string is binary string or not"
   ]
  },
  {
   "cell_type": "code",
   "execution_count": null,
   "metadata": {},
   "outputs": [],
   "source": [
    "stringA = '0110101010111'\n",
    "b = {'0','1'}\n",
    "t = set(stringA)\n",
    "\n",
    "if b == t or t == {'0'} or t == {'1'}:\n",
    "    print(\"StringA is a binary string.\")\n",
    "else:\n",
    "    print(\"StringA is not a binary string.\")\n",
    "\n",
    "stringB = '020101010111'\n",
    "u = set(stringB)\n",
    "\n",
    "if b == u or u == {'0'} or u == {'1'}:\n",
    "    print(\"StringB is a binary string.\")\n",
    "else:\n",
    "    print(\"StringB is not a binary string.\")"
   ]
  }
 ],
 "metadata": {
  "kernelspec": {
   "display_name": "Python 3 (ipykernel)",
   "language": "python",
   "name": "python3"
  },
  "language_info": {
   "codemirror_mode": {
    "name": "ipython",
    "version": 3
   },
   "file_extension": ".py",
   "mimetype": "text/x-python",
   "name": "python",
   "nbconvert_exporter": "python",
   "pygments_lexer": "ipython3",
   "version": "3.11.5"
  }
 },
 "nbformat": 4,
 "nbformat_minor": 4
}
