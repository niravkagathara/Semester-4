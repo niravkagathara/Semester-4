{
 "cells": [
  {
   "cell_type": "markdown",
   "metadata": {},
   "source": [
    "<a href='https://www.darshan.ac.in/'> <img src='https://www.darshan.ac.in/Content/media/DU_Logo.svg' width=\"250\" height=\"300\"/></a>\n",
    "<pre>\n",
    "<center><b><h1>Python Programming - 2101CS405</b></center>\n",
    "<center><b><h1>Lab - 8</b></center>    \n",
    "<pre>"
   ]
  },
  {
   "cell_type": "markdown",
   "metadata": {},
   "source": [
    "# File handling"
   ]
  },
  {
   "cell_type": "markdown",
   "metadata": {},
   "source": [
    "# A"
   ]
  },
  {
   "cell_type": "markdown",
   "metadata": {},
   "source": [
    "### 01) WAP to read entire file named abc.txt"
   ]
  },
  {
   "cell_type": "code",
   "execution_count": 25,
   "metadata": {},
   "outputs": [
    {
     "name": "stdout",
     "output_type": "stream",
     "text": [
      "hi nirav\n"
     ]
    }
   ],
   "source": [
    "# f=open('abc.txt','w')\n",
    "# x=input(\"enter string :\")\n",
    "# f.write(x)\n",
    "# f.close()\n",
    "f=open('sample.txt','r')\n",
    "data=f.read()\n",
    "print(data)\n",
    "f.close()"
   ]
  },
  {
   "cell_type": "markdown",
   "metadata": {},
   "source": [
    "### 02) WAP to print program it self on console."
   ]
  },
  {
   "cell_type": "code",
   "execution_count": 6,
   "metadata": {},
   "outputs": [
    {
     "name": "stdout",
     "output_type": "stream",
     "text": [
      "['{\\n', ' \"cells\": [\\n', '  {\\n', '   \"cell_type\": \"markdown\",\\n', '   \"metadata\": {},\\n', '   \"source\": [\\n', '    \"<a href=\\'https://www.darshan.ac.in/\\'> <img src=\\'https://www.darshan.ac.in/Content/media/DU_Logo.svg\\' width=\\\\\"250\\\\\" height=\\\\\"300\\\\\"/></a>\\\\n\",\\n', '    \"<pre>\\\\n\",\\n', '    \"<center><b><h1>Python Programming - 2101CS405</b></center>\\\\n\",\\n', '    \"<center><b><h1>Lab - 8</b></center>    \\\\n\",\\n', '    \"<pre>\"\\n', '   ]\\n', '  },\\n', '  {\\n', '   \"cell_type\": \"markdown\",\\n', '   \"metadata\": {},\\n', '   \"source\": [\\n', '    \"# File handling\"\\n', '   ]\\n', '  },\\n', '  {\\n', '   \"cell_type\": \"markdown\",\\n', '   \"metadata\": {},\\n', '   \"source\": [\\n', '    \"# A\"\\n', '   ]\\n', '  },\\n', '  {\\n', '   \"cell_type\": \"markdown\",\\n', '   \"metadata\": {},\\n', '   \"source\": [\\n', '    \"### 01) WAP to read entire file named abc.txt\"\\n', '   ]\\n', '  },\\n', '  {\\n', '   \"cell_type\": \"code\",\\n', '   \"execution_count\": 4,\\n', '   \"metadata\": {},\\n', '   \"outputs\": [\\n', '    {\\n', '     \"name\": \"stdout\",\\n', '     \"output_type\": \"stream\",\\n', '     \"text\": [\\n', '      \"enter stringhi nirav\\\\n\",\\n', '      \"hi nirav\\\\n\"\\n', '     ]\\n', '    }\\n', '   ],\\n', '   \"source\": [\\n', '    \"f=open(\\'sample.txt\\',\\'w\\')\\\\n\",\\n', '    \"x=input(\\\\\"enter string :\\\\\")\\\\n\",\\n', '    \"f.write(x)\\\\n\",\\n', '    \"f.close()\\\\n\",\\n', '    \"f=open(\\'sample.txt\\',\\'r\\')\\\\n\",\\n', '    \"data=f.read()\\\\n\",\\n', '    \"print(data)\\\\n\",\\n', '    \"f.close()\"\\n', '   ]\\n', '  },\\n', '  {\\n', '   \"cell_type\": \"markdown\",\\n', '   \"metadata\": {},\\n', '   \"source\": [\\n', '    \"### 02) WAP to print program it self on console.\"\\n', '   ]\\n', '  },\\n', '  {\\n', '   \"cell_type\": \"code\",\\n', '   \"execution_count\": null,\\n', '   \"metadata\": {},\\n', '   \"outputs\": [],\\n', '   \"source\": [\\n', '    \"f=open(\\'lab-8.ipynb\\',\\'r\\')\\\\n\",\\n', '    \"print(f.readlines())\\\\n\"\\n', '   ]\\n', '  },\\n', '  {\\n', '   \"cell_type\": \"markdown\",\\n', '   \"metadata\": {},\\n', '   \"source\": [\\n', '    \"### 03) WAP to read first 5 lines from the file named abc.txt\"\\n', '   ]\\n', '  },\\n', '  {\\n', '   \"cell_type\": \"code\",\\n', '   \"execution_count\": null,\\n', '   \"metadata\": {},\\n', '   \"outputs\": [],\\n', '   \"source\": []\\n', '  },\\n', '  {\\n', '   \"cell_type\": \"markdown\",\\n', '   \"metadata\": {},\\n', '   \"source\": [\\n', '    \"### 04) WAP to find the longest word in a file named abc.txt\"\\n', '   ]\\n', '  },\\n', '  {\\n', '   \"cell_type\": \"code\",\\n', '   \"execution_count\": null,\\n', '   \"metadata\": {},\\n', '   \"outputs\": [],\\n', '   \"source\": []\\n', '  },\\n', '  {\\n', '   \"cell_type\": \"markdown\",\\n', '   \"metadata\": {},\\n', '   \"source\": [\\n', '    \"### 05) WAP to find the size of the file named abc.txt\"\\n', '   ]\\n', '  },\\n', '  {\\n', '   \"cell_type\": \"code\",\\n', '   \"execution_count\": null,\\n', '   \"metadata\": {},\\n', '   \"outputs\": [],\\n', '   \"source\": []\\n', '  },\\n', '  {\\n', '   \"cell_type\": \"markdown\",\\n', '   \"metadata\": {},\\n', '   \"source\": [\\n', '    \"### 06) WAP to implement search function to search specific occurance of word in a given text file.\"\\n', '   ]\\n', '  },\\n', '  {\\n', '   \"cell_type\": \"code\",\\n', '   \"execution_count\": null,\\n', '   \"metadata\": {},\\n', '   \"outputs\": [],\\n', '   \"source\": []\\n', '  },\\n', '  {\\n', '   \"cell_type\": \"markdown\",\\n', '   \"metadata\": {},\\n', '   \"source\": [\\n', '    \"# B\"\\n', '   ]\\n', '  },\\n', '  {\\n', '   \"cell_type\": \"markdown\",\\n', '   \"metadata\": {},\\n', '   \"source\": [\\n', '    \"### 01) WAP to write first 100 prime numbers to a file named primenumbers.txt \\\\n\",\\n', '    \"(Note: each number should be in new line)\"\\n', '   ]\\n', '  },\\n', '  {\\n', '   \"cell_type\": \"code\",\\n', '   \"execution_count\": null,\\n', '   \"metadata\": {},\\n', '   \"outputs\": [],\\n', '   \"source\": []\\n', '  },\\n', '  {\\n', '   \"cell_type\": \"markdown\",\\n', '   \"metadata\": {},\\n', '   \"source\": [\\n', '    \"### 02) WAP to merge two files and write it in a new file.\"\\n', '   ]\\n', '  },\\n', '  {\\n', '   \"cell_type\": \"code\",\\n', '   \"execution_count\": null,\\n', '   \"metadata\": {},\\n', '   \"outputs\": [],\\n', '   \"source\": []\\n', '  },\\n', '  {\\n', '   \"cell_type\": \"markdown\",\\n', '   \"metadata\": {},\\n', '   \"source\": [\\n', '    \"### 03) WAP to encrypt a text file.\"\\n', '   ]\\n', '  },\\n', '  {\\n', '   \"cell_type\": \"code\",\\n', '   \"execution_count\": null,\\n', '   \"metadata\": {},\\n', '   \"outputs\": [],\\n', '   \"source\": []\\n', '  },\\n', '  {\\n', '   \"cell_type\": \"markdown\",\\n', '   \"metadata\": {},\\n', '   \"source\": [\\n', '    \"### 04) WAP to decrypt a previously encrypted file.\"\\n', '   ]\\n', '  },\\n', '  {\\n', '   \"cell_type\": \"code\",\\n', '   \"execution_count\": null,\\n', '   \"metadata\": {},\\n', '   \"outputs\": [],\\n', '   \"source\": []\\n', '  },\\n', '  {\\n', '   \"cell_type\": \"markdown\",\\n', '   \"metadata\": {},\\n', '   \"source\": [\\n', '    \"### 05) WAP to remove a word from text file.\"\\n', '   ]\\n', '  },\\n', '  {\\n', '   \"cell_type\": \"code\",\\n', '   \"execution_count\": null,\\n', '   \"metadata\": {},\\n', '   \"outputs\": [],\\n', '   \"source\": []\\n', '  }\\n', ' ],\\n', ' \"metadata\": {\\n', '  \"kernelspec\": {\\n', '   \"display_name\": \"Python 3 (ipykernel)\",\\n', '   \"language\": \"python\",\\n', '   \"name\": \"python3\"\\n', '  },\\n', '  \"language_info\": {\\n', '   \"codemirror_mode\": {\\n', '    \"name\": \"ipython\",\\n', '    \"version\": 3\\n', '   },\\n', '   \"file_extension\": \".py\",\\n', '   \"mimetype\": \"text/x-python\",\\n', '   \"name\": \"python\",\\n', '   \"nbconvert_exporter\": \"python\",\\n', '   \"pygments_lexer\": \"ipython3\",\\n', '   \"version\": \"3.10.9\"\\n', '  }\\n', ' },\\n', ' \"nbformat\": 4,\\n', ' \"nbformat_minor\": 4\\n', '}\\n']\n"
     ]
    }
   ],
   "source": [
    "f=open('lab-8.ipynb','r')\n",
    "print(f.readlines())\n",
    "f.close()"
   ]
  },
  {
   "cell_type": "markdown",
   "metadata": {},
   "source": [
    "### 03) WAP to read first 5 lines from the file named abc.txt"
   ]
  },
  {
   "cell_type": "code",
   "execution_count": 20,
   "metadata": {},
   "outputs": [
    {
     "name": "stdout",
     "output_type": "stream",
     "text": [
      "fsidghsd\n",
      "\n",
      "gsdgsdhs\n",
      "\n",
      "gfsdgfdsg\n",
      "\n",
      "gsdgds\n",
      "\n",
      "fdsfdsf\n",
      "\n"
     ]
    }
   ],
   "source": [
    "# f=open('lab-8.ipynb','r')\n",
    "# for i in range(5):\n",
    "#     print(f.readlines())\n",
    "# f.close()\n",
    "f = open(\"abc.txt\",\"r\")\n",
    "for i in range(0,5):\n",
    "    print(f.readline())"
   ]
  },
  {
   "cell_type": "markdown",
   "metadata": {},
   "source": [
    "### 04) WAP to find the longest word in a file named abc.txt"
   ]
  },
  {
   "cell_type": "code",
   "execution_count": 1,
   "metadata": {},
   "outputs": [
    {
     "name": "stdout",
     "output_type": "stream",
     "text": [
      "gfsdgfdsg\n"
     ]
    }
   ],
   "source": [
    "# f = open(\"abc.txt\",\"r\")\n",
    "# list = f.read().split(\" \")\n",
    "# longest = len(list[0]);\n",
    "# for i in list:\n",
    "#     if len(i) > longest:\n",
    "#         longest = len(i)\n",
    "# print(longest)\n",
    "f = open(\"abc.txt\",\"r\")\n",
    "li=f.read().split()\n",
    "x=len(max(li,key=len))\n",
    "for i in li:\n",
    "    if len(i)==x:\n",
    "        print(i)\n",
    "f.close()"
   ]
  },
  {
   "cell_type": "markdown",
   "metadata": {},
   "source": [
    "### 05) WAP to find the size of the file named abc.txt"
   ]
  },
  {
   "cell_type": "code",
   "execution_count": 16,
   "metadata": {},
   "outputs": [
    {
     "name": "stdout",
     "output_type": "stream",
     "text": [
      "19\n"
     ]
    }
   ],
   "source": [
    "import os\n",
    "f = open(\"abc.txt\", \"r\")\n",
    "f.seek(0, os.SEEK_END)\n",
    "print(f.tell())\n",
    "f.close()"
   ]
  },
  {
   "cell_type": "markdown",
   "metadata": {},
   "source": [
    "### 06) WAP to implement search function to search specific occurance of word in a given text file."
   ]
  },
  {
   "cell_type": "code",
   "execution_count": 24,
   "metadata": {},
   "outputs": [
    {
     "name": "stdout",
     "output_type": "stream",
     "text": [
      "avail\n"
     ]
    }
   ],
   "source": [
    "i='nirav'\n",
    "with open('sample.txt','r') as f:\n",
    "    x=f.read()\n",
    "    if i in x:\n",
    "        print(\"avail\")\n",
    "    else:\n",
    "        print('not avail')"
   ]
  },
  {
   "cell_type": "markdown",
   "metadata": {},
   "source": [
    "# B"
   ]
  },
  {
   "cell_type": "markdown",
   "metadata": {},
   "source": [
    "### 01) WAP to write first 100 prime numbers to a file named primenumbers.txt \n",
    "(Note: each number should be in new line)"
   ]
  },
  {
   "cell_type": "code",
   "execution_count": 34,
   "metadata": {},
   "outputs": [
    {
     "name": "stdout",
     "output_type": "stream",
     "text": [
      "2\n",
      "3\n",
      "5\n",
      "7\n",
      "11\n",
      "13\n",
      "17\n",
      "19\n",
      "23\n",
      "29\n",
      "31\n",
      "37\n",
      "41\n",
      "43\n",
      "47\n",
      "53\n",
      "59\n",
      "61\n",
      "67\n",
      "71\n",
      "73\n",
      "79\n",
      "83\n",
      "89\n",
      "97\n",
      "\n"
     ]
    }
   ],
   "source": [
    "f=open('primenumbers.txt','w')\n",
    "num=100\n",
    "for n in range(2,num):\n",
    "    for i in range(2,n):\n",
    "        if(n%i==0):\n",
    "            break\n",
    "    else:\n",
    "        f.write(str(n))\n",
    "        f.write('\\n')\n",
    "f.close()\n",
    "f1=open('primenumbers.txt','r')\n",
    "data=f1.read()\n",
    "print(data)\n",
    "f.close()"
   ]
  },
  {
   "cell_type": "markdown",
   "metadata": {},
   "source": [
    "### 02) WAP to merge two files and write it in a new file."
   ]
  },
  {
   "cell_type": "code",
   "execution_count": 40,
   "metadata": {},
   "outputs": [
    {
     "name": "stdout",
     "output_type": "stream",
     "text": [
      "2\n",
      "3\n",
      "5\n",
      "7\n",
      "11\n",
      "13\n",
      "17\n",
      "19\n",
      "23\n",
      "29\n",
      "31\n",
      "37\n",
      "41\n",
      "43\n",
      "47\n",
      "53\n",
      "59\n",
      "61\n",
      "67\n",
      "71\n",
      "73\n",
      "79\n",
      "83\n",
      "89\n",
      "97\n",
      "hi nirav\n"
     ]
    }
   ],
   "source": [
    "f=open('primenumbers.txt','r')\n",
    "data=f.read()\n",
    "f.close()\n",
    "f=open('new.txt','w')\n",
    "f.write(data)\n",
    "f.close()\n",
    "f=open('sample.txt','r')\n",
    "data=f.read()\n",
    "f.close()\n",
    "f=open('new.txt','a')\n",
    "f.write(data)\n",
    "f.close()\n",
    "f1=open('new.txt','r')\n",
    "data=f1.read()\n",
    "print(data)\n",
    "f.close()"
   ]
  },
  {
   "cell_type": "markdown",
   "metadata": {},
   "source": [
    "### 03) WAP to encrypt a text file."
   ]
  },
  {
   "cell_type": "code",
   "execution_count": 51,
   "metadata": {},
   "outputs": [
    {
     "name": "stdout",
     "output_type": "stream",
     "text": [
      "ij ojsbw\n"
     ]
    }
   ],
   "source": [
    "f=open('enc.txt','w')\n",
    "f1=open('sample.txt','r')\n",
    "enc=''\n",
    "data=f1.readlines()\n",
    "for line in data:\n",
    "    for char in line:\n",
    "        if char.isalpha():\n",
    "            shi=chr(((ord(char) - 97 + 1) % 26) +97) if char.islower() else chr(((ord(char) - 65 + 1) % 26) + 65)\n",
    "            enc += shi\n",
    "        else:\n",
    "            enc += char\n",
    "f.write(enc)\n",
    "f.close()\n",
    "f1.close()\n",
    "\n",
    "f1=open('enc.txt','r')\n",
    "data=f1.read()\n",
    "print(data)\n",
    "f.close()"
   ]
  },
  {
   "cell_type": "markdown",
   "metadata": {},
   "source": [
    "### 04) WAP to decrypt a previously encrypted file."
   ]
  },
  {
   "cell_type": "code",
   "execution_count": 54,
   "metadata": {},
   "outputs": [
    {
     "name": "stdout",
     "output_type": "stream",
     "text": [
      "hinirav"
     ]
    }
   ],
   "source": [
    "f=open('enc.txt','r')\n",
    "data=f.read().split()\n",
    "for i in data:\n",
    "    for j in i:\n",
    "        x=chr(ord(j)-1)\n",
    "        print(x,end=\"\")\n",
    "f.close()"
   ]
  },
  {
   "cell_type": "markdown",
   "metadata": {},
   "source": [
    "### 05) WAP to remove a word from text file."
   ]
  },
  {
   "cell_type": "code",
   "execution_count": 61,
   "metadata": {},
   "outputs": [
    {
     "name": "stdout",
     "output_type": "stream",
     "text": [
      "nirav \n"
     ]
    }
   ],
   "source": [
    "s=['hi']\n",
    "f=open('sample.txt','r')\n",
    "x=f.read().split()\n",
    "f.close()\n",
    "f=open('sample.txt','w')\n",
    "for i in x:\n",
    "    if i not in s:\n",
    "        f.write(i)\n",
    "f.write(\" \")\n",
    "f.close()\n",
    "\n",
    "f1=open('sample.txt','r')\n",
    "data=f1.read()\n",
    "print(data)\n",
    "f.close()\n"
   ]
  }
 ],
 "metadata": {
  "kernelspec": {
   "display_name": "Python 3 (ipykernel)",
   "language": "python",
   "name": "python3"
  },
  "language_info": {
   "codemirror_mode": {
    "name": "ipython",
    "version": 3
   },
   "file_extension": ".py",
   "mimetype": "text/x-python",
   "name": "python",
   "nbconvert_exporter": "python",
   "pygments_lexer": "ipython3",
   "version": "3.11.5"
  }
 },
 "nbformat": 4,
 "nbformat_minor": 4
}
