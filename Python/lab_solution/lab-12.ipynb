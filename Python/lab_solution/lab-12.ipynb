{
 "cells": [
  {
   "cell_type": "markdown",
   "metadata": {},
   "source": [
    "<a href='https://www.darshan.ac.in/'> <img src='https://www.darshan.ac.in/Content/media/DU_Logo.svg' width=\"250\" height=\"300\"/></a>\n",
    "<pre>\n",
    "<center><b><h1>Python Programming - 2101CS405</b></center>\n",
    "<center><b><h1>Lab - 12</b></center>    \n",
    "<pre>"
   ]
  },
  {
   "cell_type": "markdown",
   "metadata": {},
   "source": [
    "# OOP"
   ]
  },
  {
   "cell_type": "markdown",
   "metadata": {},
   "source": [
    "### 01) Write a Program to create a class by name Students, and initialize attributes like name, age, and grade while creating an object."
   ]
  },
  {
   "cell_type": "code",
   "execution_count": 14,
   "metadata": {},
   "outputs": [
    {
     "name": "stdout",
     "output_type": "stream",
     "text": [
      "Name: Divyesh\n",
      "Age: 10\n",
      "Grade: A\n"
     ]
    }
   ],
   "source": [
    "class Students:\n",
    "    name=\"\"\n",
    "    age=0\n",
    "    grade=\"\"\n",
    "    def __init__(self,name,age,grade):\n",
    "        self.name=name\n",
    "        self.age=age\n",
    "        self.grade=grade\n",
    "        print(\"Name:\",self.name)\n",
    "        print(\"Age:\", self.age)\n",
    "        print(\"Grade:\",self.grade)\n",
    "obj=Students('Divyesh',10,\"A\")"
   ]
  },
  {
   "cell_type": "markdown",
   "metadata": {},
   "source": [
    "### 02) Create a class named Bank_Account with Account_No, User_Name, Email,Account_Type and Account_Balance data members. Also create a method GetAccountDetails() and DisplayAccountDetails(). Create main method to demonstrate the Bank_Account class."
   ]
  },
  {
   "cell_type": "code",
   "execution_count": 2,
   "metadata": {},
   "outputs": [
    {
     "name": "stdout",
     "output_type": "stream",
     "text": [
      "Enter Accont No:1123\n",
      "Enter User Name:Divyesh\n",
      "Enter Email:dk@gmail.com\n",
      "Enter Account Type:savings\n",
      "Enter Account Balance:5000\n",
      "Accont No: 1123\n",
      "User Name: Divyesh\n",
      "Email: dk@gmail.com\n",
      "Account Type: savings\n",
      "Account Balance: 5000\n"
     ]
    }
   ],
   "source": [
    "class Bank_Account:\n",
    "    Account_No=0\n",
    "    User_Name=\"\"\n",
    "    Email=\"\"\n",
    "    Account_Type=\"\"\n",
    "    Account_Balance=0.0\n",
    "    def GetAccountDetails(self):\n",
    "        self.Account_No=int(input(\"Enter Accont No:\"))\n",
    "        self.User_Name=input(\"Enter User Name:\")\n",
    "        self.Email=input(\"Enter Email:\")\n",
    "        self.Account_Type=input(\"Enter Account Type:\")\n",
    "        self.Account_Balance=int(input(\"Enter Account Balance:\"))\n",
    "    def DisplayAccountDetails(self):\n",
    "        print(\"Accont No:\",self.Account_No)\n",
    "        print(\"User Name:\",self.User_Name)\n",
    "        print(\"Email:\",self.Email)\n",
    "        print(\"Account Type:\",self.Account_Type)\n",
    "        print(\"Account Balance:\",self.Account_Balance)\n",
    "    def main(self):\n",
    "        self.GetAccountDetails()\n",
    "        self.DisplayAccountDetails()\n",
    "obj1=Bank_Account()\n",
    "obj1.main()"
   ]
  },
  {
   "cell_type": "markdown",
   "metadata": {},
   "source": [
    "### 03) WAP to create Circle class with area and perimeter function to find area and perimeter of circle."
   ]
  },
  {
   "cell_type": "code",
   "execution_count": 5,
   "metadata": {},
   "outputs": [
    {
     "name": "stdout",
     "output_type": "stream",
     "text": [
      "enter radius5\n",
      "Area: 78.5\n",
      "perimeter 31.400000000000002\n"
     ]
    }
   ],
   "source": [
    "class Circle:\n",
    "    r=0\n",
    "    def __init__(self):\n",
    "        self.r=int(input(\"enter radius\"))\n",
    "    def area(self):\n",
    "        print('Area:',3.14*self.r*self.r)\n",
    "    def perimeter(self):\n",
    "        print(\"perimeter\",2*3.14*self.r)\n",
    "        \n",
    "obj=Circle()\n",
    "obj.area()\n",
    "obj.perimeter()\n"
   ]
  },
  {
   "cell_type": "markdown",
   "metadata": {},
   "source": [
    "### 04) Create a class for employees that includes attributes such as name, age, salary, and methods to update and display employee information."
   ]
  },
  {
   "cell_type": "code",
   "execution_count": 8,
   "metadata": {},
   "outputs": [
    {
     "name": "stdout",
     "output_type": "stream",
     "text": [
      "Name: Divyesh\n",
      "Age: 19\n",
      "Salary: 5000\n",
      "Enter Updated Name:Divyesh Limbasiya\n",
      "Enter Updated Age:20\n",
      "Enter Updated Salary:50000\n",
      "Name: Divyesh Limbasiya\n",
      "Age: 20\n",
      "Salary: 50000\n"
     ]
    }
   ],
   "source": [
    "class employees:\n",
    "    name=\"Divyesh\"\n",
    "    age=19\n",
    "    salary=5000\n",
    "    \n",
    "    def update(self):\n",
    "        self.name=input(\"Enter Updated Name:\")\n",
    "        self.age=input(\"Enter Updated Age:\")\n",
    "        self.salary=input(\"Enter Updated Salary:\")\n",
    "    def Display(self):\n",
    "        print(\"Name:\",self.name)\n",
    "        print(\"Age:\",self.age)\n",
    "        print(\"Salary:\",self.salary)\n",
    "obj=employees()\n",
    "obj.Display()\n",
    "obj.update()\n",
    "obj.Display()\n"
   ]
  },
  {
   "cell_type": "markdown",
   "metadata": {},
   "source": [
    "### 05) Create a bank account class with methods to deposit, withdraw, and check balance."
   ]
  },
  {
   "cell_type": "code",
   "execution_count": 14,
   "metadata": {},
   "outputs": [
    {
     "name": "stdout",
     "output_type": "stream",
     "text": [
      "Amount of your Account: 500\n",
      "Enter Add Amount:100\n",
      "Amount of your Account: 600\n",
      "Enter withdrawal Amount:6000\n",
      "\u001b[31mPaisa nathi tara Khata ma\u001b[30m\n",
      "Amount of your Account: 600\n"
     ]
    }
   ],
   "source": [
    "import colorama\n",
    "from colorama import Fore\n",
    "class Bank_Account:\n",
    "    Balance=500\n",
    "    def deposit(self):\n",
    "        self.Balance=self.Balance+int(input(\"Enter Add Amount:\"))\n",
    "    def withdraw(self):\n",
    "        amount=int(input(\"Enter withdrawal Amount:\"))\n",
    "        if amount<self.Balance:\n",
    "            self.Balance=self.Balance-amount\n",
    "        else:\n",
    "            print(Fore.RED +\"Paisa nathi tara Khata ma\"+Fore.BLACK)\n",
    "        self.displayAmount()\n",
    "    def displayAmount(self):\n",
    "        print(\"Amount of your Account:\",self.Balance)\n",
    "obj=Bank_Account()\n",
    "obj.displayAmount()\n",
    "obj.deposit()\n",
    "obj.displayAmount()\n",
    "obj.withdraw()"
   ]
  },
  {
   "cell_type": "markdown",
   "metadata": {},
   "source": [
    "### 06) Create a class for managing inventory that includes attributes such as item name, price, quantity, and methods to add, remove, and update items."
   ]
  },
  {
   "cell_type": "code",
   "execution_count": 1,
   "metadata": {},
   "outputs": [
    {
     "name": "stdout",
     "output_type": "stream",
     "text": [
      "10 Apple(s) added to inventory.\n",
      "20 Banana(s) added to inventory.\n",
      "Current Inventory:\n",
      "Item: Apple, Price: 0.5, Quantity: 10\n",
      "Item: Banana, Price: 0.3, Quantity: 20\n",
      "5 Apple(s) removed from inventory.\n",
      "Price of Banana updated to 0.25.\n",
      "Quantity of Banana updated to 30.\n",
      "Current Inventory:\n",
      "Item: Apple, Price: 0.5, Quantity: 5\n",
      "Item: Banana, Price: 0.25, Quantity: 30\n"
     ]
    }
   ],
   "source": [
    "class InventoryManager:\n",
    "    def __init__(self):\n",
    "        self.inventory = {}\n",
    "\n",
    "    def add_item(self, item_name, price, quantity):\n",
    "        if item_name in self.inventory:\n",
    "            print(\"Item already exists in inventory. Updating quantity.\")\n",
    "            self.inventory[item_name]['quantity'] += quantity\n",
    "        else:\n",
    "            self.inventory[item_name] = {'price': price, 'quantity': quantity}\n",
    "            print(f\"{quantity} {item_name}(s) added to inventory.\")\n",
    "\n",
    "    def remove_item(self, item_name, quantity):\n",
    "        if item_name in self.inventory:\n",
    "            if self.inventory[item_name]['quantity'] >= quantity:\n",
    "                self.inventory[item_name]['quantity'] -= quantity\n",
    "                print(f\"{quantity} {item_name}(s) removed from inventory.\")\n",
    "                if self.inventory[item_name]['quantity'] == 0:\n",
    "                    del self.inventory[item_name]\n",
    "                    print(f\"No more {item_name} left in inventory.\")\n",
    "            else:\n",
    "                print(\"Insufficient quantity in inventory.\")\n",
    "        else:\n",
    "            print(\"Item not found in inventory.\")\n",
    "\n",
    "    def update_item(self, item_name, price=None, quantity=None):\n",
    "        if item_name in self.inventory:\n",
    "            if price is not None:\n",
    "                self.inventory[item_name]['price'] = price\n",
    "                print(f\"Price of {item_name} updated to {price}.\")\n",
    "            if quantity is not None:\n",
    "                self.inventory[item_name]['quantity'] = quantity\n",
    "                print(f\"Quantity of {item_name} updated to {quantity}.\")\n",
    "        else:\n",
    "            print(\"Item not found in inventory.\")\n",
    "\n",
    "    def display_inventory(self):\n",
    "        print(\"Current Inventory:\")\n",
    "        for item, details in self.inventory.items():\n",
    "            print(f\"Item: {item}, Price: {details['price']}, Quantity: {details['quantity']}\")\n",
    "\n",
    "\n",
    "# Example usage:\n",
    "manager = InventoryManager()\n",
    "\n",
    "# Add items\n",
    "manager.add_item(\"Apple\", 0.5, 10)\n",
    "manager.add_item(\"Banana\", 0.3, 20)\n",
    "\n",
    "# Display inventory\n",
    "manager.display_inventory()\n",
    "\n",
    "# Remove items\n",
    "manager.remove_item(\"Apple\", 5)\n",
    "\n",
    "# Update item\n",
    "manager.update_item(\"Banana\", price=0.25, quantity=30)\n",
    "\n",
    "# Display updated inventory\n",
    "manager.display_inventory()\n"
   ]
  },
  {
   "cell_type": "markdown",
   "metadata": {},
   "source": [
    "### 09) Create a Class with instance attributes"
   ]
  },
  {
   "cell_type": "code",
   "execution_count": 2,
   "metadata": {},
   "outputs": [
    {
     "name": "stdout",
     "output_type": "stream",
     "text": [
      "Car Info:\n",
      "Make: Toyota\n",
      "Model: Camry\n",
      "Year: 2020\n",
      "Mileage: 0 miles\n",
      "You drove 100 miles.\n",
      "You drove 50 miles.\n",
      "Car Info:\n",
      "Make: Toyota\n",
      "Model: Camry\n",
      "Year: 2020\n",
      "Mileage: 150 miles\n"
     ]
    }
   ],
   "source": [
    "class Car:\n",
    "    def __init__(self, make, model, year):\n",
    "        self.make = make\n",
    "        self.model = model\n",
    "        self.year = year\n",
    "        self.mileage = 0  # Default mileage is set to 0 when a new car is created\n",
    "\n",
    "    def drive(self, distance):\n",
    "        self.mileage += distance\n",
    "        print(f\"You drove {distance} miles.\")\n",
    "\n",
    "    def display_info(self):\n",
    "        print(f\"Car Info:\\nMake: {self.make}\\nModel: {self.model}\\nYear: {self.year}\\nMileage: {self.mileage} miles\")\n",
    "\n",
    "\n",
    "# Example usage:\n",
    "my_car = Car(\"Toyota\", \"Camry\", 2020)\n",
    "\n",
    "# Display car info\n",
    "my_car.display_info()\n",
    "\n",
    "# Drive the car\n",
    "my_car.drive(100)\n",
    "my_car.drive(50)\n",
    "\n",
    "# Display updated car info\n",
    "my_car.display_info()\n"
   ]
  },
  {
   "cell_type": "markdown",
   "metadata": {},
   "source": [
    "### 07)\n",
    "Create one class student_kit <br>\n",
    "Within the student_kit class create one class attribute principal name ( Mr ABC ) <br>\n",
    "Create one attendance method and take input as number of days. <br>\n",
    "While creating student take input their name . <br>\n",
    "Create one certificate for each student by taking input of number of days present in class. <br>"
   ]
  },
  {
   "cell_type": "code",
   "execution_count": 3,
   "metadata": {},
   "outputs": [
    {
     "name": "stdout",
     "output_type": "stream",
     "text": [
      "Certificate of Attendance for John: Congratulations! You have attended 25 days out of 30 days.\n",
      "Certificate of Attendance for Alice: Sorry! You need to attend more classes to be eligible for the certificate.\n"
     ]
    }
   ],
   "source": [
    "class StudentKit:\n",
    "    principal_name = \"Mr. ABC\"  # Class attribute\n",
    "\n",
    "    def __init__(self, name):\n",
    "        self.name = name\n",
    "        self.attendance = 0\n",
    "\n",
    "    def mark_attendance(self, days):\n",
    "        self.attendance += days\n",
    "\n",
    "    def generate_certificate(self):\n",
    "        attendance_percentage = (self.attendance / 30) * 100  # Assuming 30 days in a month\n",
    "        if attendance_percentage >= 75:\n",
    "            return f\"Certificate of Attendance for {self.name}: Congratulations! You have attended {self.attendance} days out of 30 days.\"\n",
    "        else:\n",
    "            return f\"Certificate of Attendance for {self.name}: Sorry! You need to attend more classes to be eligible for the certificate.\"\n",
    "\n",
    "\n",
    "# Example usage:\n",
    "student1 = StudentKit(\"John\")\n",
    "student1.mark_attendance(25)  # Assuming John attended 25 days out of 30\n",
    "print(student1.generate_certificate())\n",
    "\n",
    "student2 = StudentKit(\"Alice\")\n",
    "student2.mark_attendance(20)  # Assuming Alice attended 20 days out of 30\n",
    "print(student2.generate_certificate())\n"
   ]
  },
  {
   "cell_type": "markdown",
   "metadata": {},
   "source": [
    "### 08) Define Time class with hour and minute as data member. Also define addition method to add two time objects."
   ]
  },
  {
   "cell_type": "code",
   "execution_count": 4,
   "metadata": {},
   "outputs": [
    {
     "name": "stdout",
     "output_type": "stream",
     "text": [
      "Result of addition: 06:15\n"
     ]
    }
   ],
   "source": [
    "class Time:\n",
    "    def __init__(self, hour, minute):\n",
    "        self.hour = hour\n",
    "        self.minute = minute\n",
    "\n",
    "    def __add__(self, other):\n",
    "        total_minutes = self.minute + other.minute\n",
    "        extra_hours = total_minutes // 60\n",
    "        final_minute = total_minutes % 60\n",
    "        final_hour = self.hour + other.hour + extra_hours\n",
    "        return Time(final_hour, final_minute)\n",
    "\n",
    "    def __str__(self):\n",
    "        return f\"{self.hour:02}:{self.minute:02}\"\n",
    "\n",
    "\n",
    "# Example usage:\n",
    "time1 = Time(3, 45)\n",
    "time2 = Time(2, 30)\n",
    "result = time1 + time2\n",
    "print(\"Result of addition:\", result)\n"
   ]
  },
  {
   "cell_type": "markdown",
   "metadata": {},
   "source": [
    "### 09) WAP to demonstrate inheritance in python."
   ]
  },
  {
   "cell_type": "code",
   "execution_count": 5,
   "metadata": {},
   "outputs": [
    {
     "name": "stdout",
     "output_type": "stream",
     "text": [
      "Buddy says Woof!\n",
      "Whiskers says Meow!\n"
     ]
    }
   ],
   "source": [
    "class Animal:\n",
    "    def __init__(self, name):\n",
    "        self.name = name\n",
    "\n",
    "    def speak(self):\n",
    "        raise NotImplementedError(\"Subclasses must implement this method\")\n",
    "\n",
    "\n",
    "class Dog(Animal):\n",
    "    def speak(self):\n",
    "        return f\"{self.name} says Woof!\"\n",
    "\n",
    "\n",
    "class Cat(Animal):\n",
    "    def speak(self):\n",
    "        return f\"{self.name} says Meow!\"\n",
    "\n",
    "\n",
    "# Create instances of subclasses\n",
    "dog = Dog(\"Buddy\")\n",
    "cat = Cat(\"Whiskers\")\n",
    "\n",
    "# Demonstrate inheritance by calling speak method\n",
    "print(dog.speak())  # Output: Buddy says Woof!\n",
    "print(cat.speak())  # Output: Whiskers says Meow!\n"
   ]
  },
  {
   "cell_type": "markdown",
   "metadata": {},
   "source": [
    "### 10) Create a child class Bus that will inherit all of the variables and methods of the Vehicle class\n",
    "class Vehicle:\n",
    "\n",
    "    def __init__(self, name, max_speed, mileage):\n",
    "        self.name = name\n",
    "        self.max_speed = max_speed\n",
    "        self.mileage = mileage\n",
    "        \n",
    "Create a Bus object that will inherit all of the variables and methods of the parent Vehicle class and display it.        "
   ]
  },
  {
   "cell_type": "code",
   "execution_count": 6,
   "metadata": {},
   "outputs": [
    {
     "name": "stdout",
     "output_type": "stream",
     "text": [
      "Bus Name: Volvo\n",
      "Max Speed: 120\n",
      "Mileage: 8\n"
     ]
    }
   ],
   "source": [
    "class Vehicle:\n",
    "    def __init__(self, name, max_speed, mileage):\n",
    "        self.name = name\n",
    "        self.max_speed = max_speed\n",
    "        self.mileage = mileage\n",
    "\n",
    "class Bus(Vehicle):\n",
    "    pass  # Since Bus inherits all attributes and methods from Vehicle, no need to redefine them\n",
    "\n",
    "# Create a Bus object\n",
    "bus = Bus(\"Volvo\", 120, 8)\n",
    "\n",
    "# Display attributes of the Bus object\n",
    "print(\"Bus Name:\", bus.name)\n",
    "print(\"Max Speed:\", bus.max_speed)\n",
    "print(\"Mileage:\", bus.mileage)\n"
   ]
  },
  {
   "cell_type": "markdown",
   "metadata": {},
   "source": [
    "### 11)  Create a class hierarchy for different types of animals, with a parent Animal class and child classes for specific animals like Cat, Dog, and Bird."
   ]
  },
  {
   "cell_type": "code",
   "execution_count": 7,
   "metadata": {},
   "outputs": [
    {
     "name": "stdout",
     "output_type": "stream",
     "text": [
      "Whiskers makes sound: Meow\n",
      "Buddy makes sound: Woof\n",
      "Tweetie makes sound: Chirp\n"
     ]
    }
   ],
   "source": [
    "class Animal:\n",
    "    def __init__(self, name):\n",
    "        self.name = name\n",
    "\n",
    "    def sound(self):\n",
    "        pass  # Placeholder for making this method abstract\n",
    "\n",
    "\n",
    "class Cat(Animal):\n",
    "    def sound(self):\n",
    "        return \"Meow\"\n",
    "\n",
    "\n",
    "class Dog(Animal):\n",
    "    def sound(self):\n",
    "        return \"Woof\"\n",
    "\n",
    "\n",
    "class Bird(Animal):\n",
    "    def sound(self):\n",
    "        return \"Chirp\"\n",
    "\n",
    "\n",
    "# Example usage:\n",
    "cat = Cat(\"Whiskers\")\n",
    "dog = Dog(\"Buddy\")\n",
    "bird = Bird(\"Tweetie\")\n",
    "\n",
    "print(cat.name, \"makes sound:\", cat.sound())  # Output: Whiskers makes sound: Meow\n",
    "print(dog.name, \"makes sound:\", dog.sound())  # Output: Buddy makes sound: Woof\n",
    "print(bird.name, \"makes sound:\", bird.sound())  # Output: Tweetie makes sound: Chirp\n"
   ]
  },
  {
   "cell_type": "markdown",
   "metadata": {},
   "source": [
    "### 12) Create a class hierarchy for different types of vehicles, with a parent Vehicle class and child classes for specific vehicles like Car, Truck, and Motorcycle."
   ]
  },
  {
   "cell_type": "code",
   "execution_count": 8,
   "metadata": {},
   "outputs": [
    {
     "name": "stdout",
     "output_type": "stream",
     "text": [
      "The car is now being driven.\n",
      "The car has stopped.\n",
      "The truck is now being driven.\n",
      "The truck has stopped.\n",
      "The motorcycle is now being driven.\n",
      "The motorcycle has stopped.\n"
     ]
    }
   ],
   "source": [
    "class Vehicle:\n",
    "    def __init__(self, make, model, year):\n",
    "        self.make = make\n",
    "        self.model = model\n",
    "        self.year = year\n",
    "\n",
    "    def drive(self):\n",
    "        return \"The vehicle is now being driven.\"\n",
    "\n",
    "    def stop(self):\n",
    "        return \"The vehicle has stopped.\"\n",
    "\n",
    "\n",
    "class Car(Vehicle):\n",
    "    def __init__(self, make, model, year, num_doors):\n",
    "        super().__init__(make, model, year)\n",
    "        self.num_doors = num_doors\n",
    "\n",
    "    def drive(self):\n",
    "        return \"The car is now being driven.\"\n",
    "\n",
    "    def stop(self):\n",
    "        return \"The car has stopped.\"\n",
    "\n",
    "\n",
    "class Truck(Vehicle):\n",
    "    def __init__(self, make, model, year, cargo_capacity):\n",
    "        super().__init__(make, model, year)\n",
    "        self.cargo_capacity = cargo_capacity\n",
    "\n",
    "    def drive(self):\n",
    "        return \"The truck is now being driven.\"\n",
    "\n",
    "    def stop(self):\n",
    "        return \"The truck has stopped.\"\n",
    "\n",
    "\n",
    "class Motorcycle(Vehicle):\n",
    "    def __init__(self, make, model, year, num_wheels):\n",
    "        super().__init__(make, model, year)\n",
    "        self.num_wheels = num_wheels\n",
    "\n",
    "    def drive(self):\n",
    "        return \"The motorcycle is now being driven.\"\n",
    "\n",
    "    def stop(self):\n",
    "        return \"The motorcycle has stopped.\"\n",
    "\n",
    "\n",
    "# Example usage:\n",
    "car = Car(\"Toyota\", \"Camry\", 2020, 4)\n",
    "print(car.drive())  # Output: The car is now being driven.\n",
    "print(car.stop())   # Output: The car has stopped.\n",
    "\n",
    "truck = Truck(\"Ford\", \"F150\", 2019, \"1000 lbs\")\n",
    "print(truck.drive())  # Output: The truck is now being driven.\n",
    "print(truck.stop())   # Output: The truck has stopped.\n",
    "\n",
    "motorcycle = Motorcycle(\"Honda\", \"CBR500R\", 2021, 2)\n",
    "print(motorcycle.drive())  # Output: The motorcycle is now being driven.\n",
    "print(motorcycle.stop())   # Output: The motorcycle has stopped.\n"
   ]
  },
  {
   "cell_type": "markdown",
   "metadata": {},
   "source": [
    "### 13)  Create a class hierarchy for different types of bank accounts, with a parent Account class and child classes for specific account types like Checking, Savings, and Credit."
   ]
  },
  {
   "cell_type": "code",
   "execution_count": 9,
   "metadata": {},
   "outputs": [
    {
     "name": "stdout",
     "output_type": "stream",
     "text": [
      "Deposited 50 into account 1234. New balance: 150\n",
      "Withdrew 75 from Checking account 1234. New balance: 75\n",
      "Added interest. New balance: 505.0\n",
      "Withdrew 700 from Credit account 9876. New balance: -200\n"
     ]
    }
   ],
   "source": [
    "class Account:\n",
    "    def __init__(self, account_number, balance=0):\n",
    "        self.account_number = account_number\n",
    "        self.balance = balance\n",
    "\n",
    "    def deposit(self, amount):\n",
    "        self.balance += amount\n",
    "        print(f\"Deposited {amount} into account {self.account_number}. New balance: {self.balance}\")\n",
    "\n",
    "    def withdraw(self, amount):\n",
    "        if self.balance >= amount:\n",
    "            self.balance -= amount\n",
    "            print(f\"Withdrew {amount} from account {self.account_number}. New balance: {self.balance}\")\n",
    "        else:\n",
    "            print(\"Insufficient funds\")\n",
    "\n",
    "    def get_balance(self):\n",
    "        return self.balance\n",
    "\n",
    "class Checking(Account):\n",
    "    def __init__(self, account_number, balance=0, overdraft_limit=100):\n",
    "        super().__init__(account_number, balance)\n",
    "        self.overdraft_limit = overdraft_limit\n",
    "\n",
    "    def withdraw(self, amount):\n",
    "        if self.balance + self.overdraft_limit >= amount:\n",
    "            self.balance -= amount\n",
    "            print(f\"Withdrew {amount} from Checking account {self.account_number}. New balance: {self.balance}\")\n",
    "        else:\n",
    "            print(\"Transaction declined: Insufficient funds\")\n",
    "\n",
    "class Savings(Account):\n",
    "    def __init__(self, account_number, balance=0, interest_rate=0.01):\n",
    "        super().__init__(account_number, balance)\n",
    "        self.interest_rate = interest_rate\n",
    "\n",
    "    def add_interest(self):\n",
    "        interest = self.balance * self.interest_rate\n",
    "        self.balance += interest\n",
    "        print(f\"Added interest. New balance: {self.balance}\")\n",
    "\n",
    "class Credit(Account):\n",
    "    def __init__(self, account_number, balance=0, credit_limit=1000):\n",
    "        super().__init__(account_number, balance)\n",
    "        self.credit_limit = credit_limit\n",
    "\n",
    "    def withdraw(self, amount):\n",
    "        if self.balance - amount >= -self.credit_limit:\n",
    "            self.balance -= amount\n",
    "            print(f\"Withdrew {amount} from Credit account {self.account_number}. New balance: {self.balance}\")\n",
    "        else:\n",
    "            print(\"Transaction declined: Exceeds credit limit\")\n",
    "\n",
    "# Example usage:\n",
    "checking_acc = Checking(\"1234\", 100)\n",
    "checking_acc.deposit(50)\n",
    "checking_acc.withdraw(75)\n",
    "\n",
    "savings_acc = Savings(\"5678\", 500)\n",
    "savings_acc.add_interest()\n",
    "\n",
    "credit_acc = Credit(\"9876\", 500)\n",
    "credit_acc.withdraw(700)\n"
   ]
  },
  {
   "cell_type": "markdown",
   "metadata": {},
   "source": [
    "### 14) Create a Shape class with a draw method that is not implemented. Create three child classes Rectangle, Circle, and Triangle that implement the draw method with their respective drawing behaviors. Create a list of Shape objects that includes one instance of each child class, and then iterate through the list and call the draw method on each object."
   ]
  },
  {
   "cell_type": "code",
   "execution_count": 10,
   "metadata": {},
   "outputs": [
    {
     "name": "stdout",
     "output_type": "stream",
     "text": [
      "Drawing a rectangle\n",
      "Drawing a circle\n",
      "Drawing a triangle\n"
     ]
    }
   ],
   "source": [
    "import math\n",
    "\n",
    "class Shape:\n",
    "    def draw(self):\n",
    "        raise NotImplementedError(\"draw method must be implemented in child classes\")\n",
    "\n",
    "class Rectangle(Shape):\n",
    "    def draw(self):\n",
    "        print(\"Drawing a rectangle\")\n",
    "\n",
    "class Circle(Shape):\n",
    "    def draw(self):\n",
    "        print(\"Drawing a circle\")\n",
    "\n",
    "class Triangle(Shape):\n",
    "    def draw(self):\n",
    "        print(\"Drawing a triangle\")\n",
    "\n",
    "# Creating a list of Shape objects with one instance of each child class\n",
    "shapes = [Rectangle(), Circle(), Triangle()]\n",
    "\n",
    "# Iterating through the list and calling the draw method on each object\n",
    "for shape in shapes:\n",
    "    shape.draw()\n"
   ]
  },
  {
   "cell_type": "markdown",
   "metadata": {},
   "source": [
    "### 15) Create a Person class with a constructor that takes two arguments name and age. Create a child class Employee that inherits from Person and adds a new attribute salary. Override the __init__ method in Employee to call the parent class's __init__ method using the super keyword, and then initialize the salary attribute."
   ]
  },
  {
   "cell_type": "code",
   "execution_count": 11,
   "metadata": {},
   "outputs": [
    {
     "name": "stdout",
     "output_type": "stream",
     "text": [
      "Name: John, Age: 30, Salary: $50000\n"
     ]
    }
   ],
   "source": [
    "class Person:\n",
    "    def __init__(self, name, age):\n",
    "        self.name = name\n",
    "        self.age = age\n",
    "\n",
    "class Employee(Person):\n",
    "    def __init__(self, name, age, salary):\n",
    "        super().__init__(name, age)\n",
    "        self.salary = salary\n",
    "\n",
    "# Example usage:\n",
    "employee = Employee(\"John\", 30, 50000)\n",
    "print(f\"Name: {employee.name}, Age: {employee.age}, Salary: ${employee.salary}\")\n"
   ]
  }
 ],
 "metadata": {
  "kernelspec": {
   "display_name": "Python 3 (ipykernel)",
   "language": "python",
   "name": "python3"
  },
  "language_info": {
   "codemirror_mode": {
    "name": "ipython",
    "version": 3
   },
   "file_extension": ".py",
   "mimetype": "text/x-python",
   "name": "python",
   "nbconvert_exporter": "python",
   "pygments_lexer": "ipython3",
   "version": "3.11.5"
  }
 },
 "nbformat": 4,
 "nbformat_minor": 4
}
