{
 "cells": [
  {
   "cell_type": "markdown",
   "metadata": {},
   "source": [
    "<a href='https://www.darshan.ac.in/'> <img src='https://www.darshan.ac.in/Content/media/DU_Logo.svg' width=\"250\" height=\"300\"/></a>\n",
    "<pre>\n",
    "<center><b><h1>Python Programming - 2101CS405</b></center>\n",
    "<center><b><h1>Lab - 6</b></center>    \n",
    "<pre>"
   ]
  },
  {
   "cell_type": "markdown",
   "metadata": {},
   "source": [
    "# Tuples, dictionary, set"
   ]
  },
  {
   "cell_type": "markdown",
   "metadata": {},
   "source": [
    "# A"
   ]
  },
  {
   "cell_type": "markdown",
   "metadata": {},
   "source": [
    "### 01) WAP to sort python dictionary by key or value."
   ]
  },
  {
   "cell_type": "code",
   "execution_count": 4,
   "metadata": {},
   "outputs": [
    {
     "name": "stdout",
     "output_type": "stream",
     "text": [
      "Sorted Dictionary By Keys :  {'Deven': 10, 'Parsaniya': 55, 'collage': 22, 'darshan': 1}\n",
      "Sorted Dictionary By Values:  {'darshan': 1, 'Deven': 10, 'collage': 22, 'Parsaniya': 55}\n"
     ]
    }
   ],
   "source": [
    "my_dictionary = {\"collage\": 22, \"Deven\": 10, \"Parsaniya\": 55, \"darshan\": 1}\n",
    "\n",
    "sortedDictByKeys = sorted(my_dictionary.items(), key=lambda x: x[0])\n",
    "sortedDictByValues = sorted(my_dictionary.items(), key=lambda x: x[1])\n",
    "\n",
    "print(\"Sorted Dictionary By Keys : \", dict(sortedDictByKeys))\n",
    "print(\"Sorted Dictionary By Values: \", dict(sortedDictByValues))"
   ]
  },
  {
   "cell_type": "markdown",
   "metadata": {},
   "source": [
    "### 02) WAP to merge two dictionaries given by user."
   ]
  },
  {
   "cell_type": "code",
   "execution_count": 5,
   "metadata": {},
   "outputs": [
    {
     "name": "stdout",
     "output_type": "stream",
     "text": [
      "Enter Length Of Your Dictionary1 : 2\n",
      "Enter Keys : dev\n",
      "Enter Values : 5\n",
      "Enter Keys : fg\n",
      "Enter Values : 1\n",
      "Enter Length Of Your Dictionary2 : 2\n",
      "Enter Keys : sdg\n",
      "Enter Values : 656\n",
      "Enter Keys : 6565\n",
      "Enter Values : sdgsdg\n",
      "{'dev': '5', 'fg': '1', 'sdg': '656', '6565': 'sdgsdg'}\n"
     ]
    }
   ],
   "source": [
    "def makeDict(n):\n",
    "    mydict = {}\n",
    "    for i in range(n):\n",
    "        keys = input(\"Enter Keys : \")\n",
    "        values = input(\"Enter Values : \")\n",
    "        mydict[keys] = values\n",
    "    return mydict\n",
    "\n",
    "\n",
    "length1 = int(input(\"Enter Length Of Your Dictionary1 : \"))\n",
    "dict1 = makeDict(length1)\n",
    "\n",
    "length2 = int(input(\"Enter Length Of Your Dictionary2 : \"))\n",
    "dict2 = makeDict(length2)\n",
    "\n",
    "dict3 = dict1 | dict2\n",
    "\n",
    "print(dict3)"
   ]
  },
  {
   "cell_type": "markdown",
   "metadata": {},
   "source": [
    "### 03) WAP to find tuples that have all elements divisible by K from a list of tuples."
   ]
  },
  {
   "cell_type": "code",
   "execution_count": 8,
   "metadata": {},
   "outputs": [
    {
     "name": "stdout",
     "output_type": "stream",
     "text": [
      "{40, 20, 30}\n"
     ]
    }
   ],
   "source": [
    "li = [{1,2,3},{20,30,40},{7,8,6}]\n",
    "k = 2\n",
    "for i in li:\n",
    "    count = 0\n",
    "    total = 0\n",
    "    for j in i:\n",
    "        count += 1\n",
    "        if(j % k == 0):\n",
    "            total += 1\n",
    "    if count == total :\n",
    "        print(i)"
   ]
  },
  {
   "cell_type": "markdown",
   "metadata": {},
   "source": [
    "### 04) WAP to find Tuples with positive elements in List of tuples."
   ]
  },
  {
   "cell_type": "code",
   "execution_count": 5,
   "metadata": {},
   "outputs": [
    {
     "name": "stdout",
     "output_type": "stream",
     "text": [
      "Original List of Tuples: [(1, 2, 3), (-1, 4, 5), (6, 7, 8), (-2, -3, -4)]\n",
      "Tuples with Positive Elements: [(1, 2, 3), (6, 7, 8)]\n"
     ]
    }
   ],
   "source": [
    "\n",
    "list_of_tuples = [(1, 2, 3), (-1, 4, 5), (6, 7, 8), (-2, -3, -4)]\n",
    "positive_tuples = [tup for tup in list_of_tuples if all(element > 0 for element in tup)]\n",
    "\n",
    "print(\"Original List of Tuples:\", list_of_tuples)\n",
    "print(\"Tuples with Positive Elements:\", positive_tuples)\n"
   ]
  },
  {
   "cell_type": "markdown",
   "metadata": {},
   "source": [
    "### 05) WAP which perform union of two sets."
   ]
  },
  {
   "cell_type": "code",
   "execution_count": 15,
   "metadata": {},
   "outputs": [
    {
     "name": "stdout",
     "output_type": "stream",
     "text": [
      "Set 1: {1, 2, 3, 4}\n",
      "Set 2: {3, 4, 5, 6}\n",
      "Union of Set 1 and Set 2: {1, 2, 3, 4, 5, 6}\n"
     ]
    }
   ],
   "source": [
    "s1 = {1, 2, 3, 4}\n",
    "s2 = {3, 4, 5, 6}\n",
    "\n",
    "union = s1 | s2\n",
    "\n",
    "print(\"Set 1:\", s1)\n",
    "print(\"Set 2:\", s2)\n",
    "print(\"Union of Set 1 and Set 2:\", union)\n"
   ]
  },
  {
   "cell_type": "markdown",
   "metadata": {},
   "source": [
    "# B"
   ]
  },
  {
   "cell_type": "markdown",
   "metadata": {},
   "source": [
    "### 01) WAP to convert binary tuple into integer."
   ]
  },
  {
   "cell_type": "code",
   "execution_count": 14,
   "metadata": {},
   "outputs": [
    {
     "name": "stdout",
     "output_type": "stream",
     "text": [
      "Binary Tuple: (1, 0, 1, 1, 0, 1)\n",
      "Integer Conversion: 45\n"
     ]
    }
   ],
   "source": [
    "t = (1, 0, 1, 1, 0, 1)\n",
    "\n",
    "i = int(''.join(map(str, t)), 2)\n",
    "\n",
    "print(\"Binary Tuple:\", t)\n",
    "print(\"Integer Conversion:\", i)\n"
   ]
  },
  {
   "cell_type": "markdown",
   "metadata": {},
   "source": [
    "### 02) WAP to count frequency in list by dictionary."
   ]
  },
  {
   "cell_type": "code",
   "execution_count": 13,
   "metadata": {},
   "outputs": [
    {
     "name": "stdout",
     "output_type": "stream",
     "text": [
      "Original List: [1, 2, 2, 3, 1, 4, 2, 5, 3, 4, 2, 1]\n",
      "Frequency Count: {1: 3, 2: 4, 3: 2, 4: 2, 5: 1}\n"
     ]
    }
   ],
   "source": [
    "li = [1, 2, 2, 3, 1, 4, 2, 5, 3, 4, 2, 1]\n",
    "\n",
    "frd = {}\n",
    "\n",
    "for element in li:\n",
    "    if element in frd:\n",
    "        frd[element] += 1\n",
    "    else:\n",
    "        frd[element] = 1\n",
    "\n",
    "print(\"Original List:\", li)\n",
    "print(\"Frequency Count:\", frd)\n"
   ]
  },
  {
   "cell_type": "markdown",
   "metadata": {},
   "source": [
    "### 03) WAP to remove all the duplicate words from the list using dictionary."
   ]
  },
  {
   "cell_type": "code",
   "execution_count": 10,
   "metadata": {},
   "outputs": [
    {
     "name": "stdout",
     "output_type": "stream",
     "text": [
      "Original Word List: ['apple', 'banana', 'orange', 'apple', 'grape', 'banana', 'kiwi', 'orange']\n",
      "List with Duplicates Removed: ['apple', 'banana', 'orange', 'grape', 'kiwi']\n"
     ]
    }
   ],
   "source": [
    "word_list = [\"apple\", \"banana\", \"orange\", \"apple\", \"grape\", \"banana\", \"kiwi\", \"orange\"]\n",
    "\n",
    "dict = {}\n",
    "\n",
    "ulist = [dict.setdefault(word, word) for word in word_list if word not in dict]\n",
    "\n",
    "print(\"Original Word List:\", word_list)\n",
    "print(\"List with Duplicates Removed:\", ulist)\n"
   ]
  }
 ],
 "metadata": {
  "kernelspec": {
   "display_name": "Python 3 (ipykernel)",
   "language": "python",
   "name": "python3"
  },
  "language_info": {
   "codemirror_mode": {
    "name": "ipython",
    "version": 3
   },
   "file_extension": ".py",
   "mimetype": "text/x-python",
   "name": "python",
   "nbconvert_exporter": "python",
   "pygments_lexer": "ipython3",
   "version": "3.11.5"
  }
 },
 "nbformat": 4,
 "nbformat_minor": 4
}
