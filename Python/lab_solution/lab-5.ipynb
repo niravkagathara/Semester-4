{
 "cells": [
  {
   "cell_type": "markdown",
   "metadata": {},
   "source": [
    "\n",
    "<a href='https://www.darshan.ac.in/'> <img src='https://www.darshan.ac.in/Content/media/DU_Logo.svg' width=\"250\" height=\"300\"/></a>\n",
    "<pre>\n",
    "<center><b><h1>Python Programming - 2101CS405</b></center>\n",
    "<center><b><h1>Lab - 5</b></center>    \n",
    "<pre>"
   ]
  },
  {
   "cell_type": "code",
   "execution_count": 46,
   "metadata": {},
   "outputs": [
    {
     "name": "stdout",
     "output_type": "stream",
     "text": [
      "['nirav', 'is', 'raj']\n",
      "is\n",
      "['nirav', 'is', 'raj', 'hello']\n",
      "['nirav', 'is', 'my best frd', 'raj', 'hello']\n",
      "nk\n",
      "['nirav', 'is', 'my best frd', 'raj', 'hi']\n",
      "2\n",
      "['nirav', 'is', 'my best frd', 'raj', 'hi', 'is']\n",
      "None\n",
      "['is', 'hi', 'raj', 'my best frd', 'is', 'nirav']\n"
     ]
    },
    {
     "data": {
      "text/plain": [
       "['hi', 'is', 'is', 'my best frd', 'nirav', 'raj']"
      ]
     },
     "execution_count": 46,
     "metadata": {},
     "output_type": "execute_result"
    }
   ],
   "source": [
    "li=[\"nirav\",'is','....']\n",
    "\n",
    "li[2]='raj'\n",
    "\n",
    "print(li)\n",
    "\n",
    "print(li[1])\n",
    "\n",
    "\n",
    "li.append(\"hello\")\n",
    "print(li)\n",
    "\n",
    "li.insert(2,\"my best frd\")\n",
    "print(li)\n",
    "\n",
    "li2=[\"hi\",'nk']\n",
    "li.extend(li2)\n",
    "\n",
    "print(li.pop())\n",
    "\n",
    "li.remove(\"hello\")\n",
    "print(li)\n",
    "\n",
    "li.append(\"is\")\n",
    "print(li.count(\"is\"))\n",
    "print(li)\n",
    "\n",
    "print(li.reverse())\n",
    "print(li)\n",
    "\n",
    "li.sort()\n",
    "li"
   ]
  },
  {
   "cell_type": "markdown",
   "metadata": {},
   "source": [
    "# list"
   ]
  },
  {
   "cell_type": "markdown",
   "metadata": {},
   "source": [
    "### 01) WAP to find sum of all the elements in List."
   ]
  },
  {
   "cell_type": "code",
   "execution_count": 4,
   "metadata": {},
   "outputs": [
    {
     "name": "stdout",
     "output_type": "stream",
     "text": [
      "Enter Number :5\n",
      "Enter Element :1\n",
      "Enter Element :2\n",
      "Enter Element :3\n",
      "Enter Element :1\n",
      "Enter Element :2\n",
      "Sum of all the elements : 9\n"
     ]
    }
   ],
   "source": [
    "li = []\n",
    "n = int(input('Enter Number :'))\n",
    "for i in range(n):\n",
    "    li.append(int(input('Enter Element :')))\n",
    "print('Sum of all the elements :',sum(li))"
   ]
  },
  {
   "cell_type": "markdown",
   "metadata": {},
   "source": [
    "### 02) WAP to find largest element in a List."
   ]
  },
  {
   "cell_type": "code",
   "execution_count": 5,
   "metadata": {},
   "outputs": [
    {
     "name": "stdout",
     "output_type": "stream",
     "text": [
      "Enter Number :5\n",
      "Enter Element :1\n",
      "Enter Element :2\n",
      "Enter Element :3\n",
      "Enter Element :4\n",
      "Enter Element :5\n",
      "Largest element in a list is  5\n"
     ]
    }
   ],
   "source": [
    "li = []\n",
    "n = int(input('Enter Number :'))\n",
    "for i in range(n):\n",
    "    li.append(int(input('Enter Element :')))\n",
    "print('Largest element in a list is ',max(li))"
   ]
  },
  {
   "cell_type": "markdown",
   "metadata": {},
   "source": [
    "### 03) WAP to split the List into two and append the first part to the end."
   ]
  },
  {
   "cell_type": "code",
   "execution_count": 6,
   "metadata": {},
   "outputs": [
    {
     "name": "stdout",
     "output_type": "stream",
     "text": [
      "[50, 60, 70, 80, 90, 10, 20, 30, 40]\n"
     ]
    }
   ],
   "source": [
    "a = [10,20,30,40,50,60,70,80,90]\n",
    "b = a[ len(a) // 2 :]\n",
    "b.extend(a[ : len(a) // 2])\n",
    "print(b)"
   ]
  },
  {
   "cell_type": "markdown",
   "metadata": {},
   "source": [
    "### 04) WAP to interchange first and last elements in list entered by a user."
   ]
  },
  {
   "cell_type": "code",
   "execution_count": 7,
   "metadata": {},
   "outputs": [
    {
     "name": "stdout",
     "output_type": "stream",
     "text": [
      "Enter Number :5\n",
      "Enter Element :4\n",
      "Enter Element :5\n",
      "Enter Element :8\n",
      "Enter Element :5\n",
      "Enter Element :4\n",
      "[4, 4, 5, 8, 5]\n"
     ]
    }
   ],
   "source": [
    "li = []\n",
    "n = int(input('Enter Number :'))\n",
    "for i in range(n):\n",
    "    li.append(int(input('Enter Element :')))\n",
    "    li[0] , li[-1] = li[-1] , li[0]\n",
    "print(li) "
   ]
  },
  {
   "cell_type": "markdown",
   "metadata": {},
   "source": [
    "### 05) WAP to interchange the elements on two positions entered by a user."
   ]
  },
  {
   "cell_type": "code",
   "execution_count": 8,
   "metadata": {},
   "outputs": [
    {
     "name": "stdout",
     "output_type": "stream",
     "text": [
      "Enter Number :8\n",
      "Enter Element :7\n",
      "Enter Element :8\n",
      "Enter Element :7\n",
      "Enter Element :5\n",
      "Enter Element :7\n",
      "Enter Element :7\n",
      "Enter Element :8\n",
      "Enter Element :5\n",
      "Enter First Position : 1\n",
      "Enter Second Position : 8\n",
      "[5, 8, 7, 5, 7, 7, 8, 7]\n"
     ]
    }
   ],
   "source": [
    "li = []\n",
    "n = int(input('Enter Number :'))\n",
    "for i in range(n):\n",
    "    li.append(int(input('Enter Element :')))  \n",
    "n1 = int(input(\"Enter First Position : \"))\n",
    "n2 = int(input(\"Enter Second Position : \"))\n",
    "li[n1-1] , li[n2-1] = li[n2-1] , li[n1-1]\n",
    "print(li)"
   ]
  },
  {
   "cell_type": "markdown",
   "metadata": {},
   "source": [
    "### 06) WAP to reverses the list entered by user."
   ]
  },
  {
   "cell_type": "code",
   "execution_count": 9,
   "metadata": {},
   "outputs": [
    {
     "name": "stdout",
     "output_type": "stream",
     "text": [
      "Enter Number :3\n",
      "Enter Element :5\n",
      "Enter Element :8\n",
      "Enter Element :7\n",
      "[7, 8, 5]\n"
     ]
    }
   ],
   "source": [
    "li = []\n",
    "n = int(input('Enter Number :'))\n",
    "for i in range(n):\n",
    "    li.append(int(input('Enter Element :')))\n",
    "li.reverse()\n",
    "print(li)    "
   ]
  },
  {
   "cell_type": "markdown",
   "metadata": {},
   "source": [
    "### 07) Python program to remove multiple elements from a list using list comprehension"
   ]
  },
  {
   "cell_type": "code",
   "execution_count": 16,
   "metadata": {},
   "outputs": [
    {
     "name": "stdout",
     "output_type": "stream",
     "text": [
      "Enter Number :5\n",
      "Enter Element :8\n",
      "Enter Element :7\n",
      "Enter Element :4\n",
      "Enter Element :5\n",
      "Enter Element :4\n",
      "[8, 7, 4, 5, 4]\n",
      "[8, 4, 4]\n"
     ]
    }
   ],
   "source": [
    "li = []\n",
    "n = int(input('Enter Number :'))\n",
    "for i in range(n):\n",
    "    li.append(int(input('Enter Element :')))\n",
    "print(li)\n",
    "ni=[i for i in li if i%2==0]\n",
    "print(ni)"
   ]
  },
  {
   "cell_type": "markdown",
   "metadata": {},
   "source": [
    "### 08) Create a list from the specified start to end index of another list."
   ]
  },
  {
   "cell_type": "code",
   "execution_count": 22,
   "metadata": {},
   "outputs": [
    {
     "name": "stdout",
     "output_type": "stream",
     "text": [
      "Enter Number :5\n",
      "Enter Element :1\n",
      "Enter Element :2\n",
      "Enter Element :3\n",
      "Enter Element :4\n",
      "Enter Element :58\n",
      "[1, 2, 3, 4, 58]\n",
      "Enter starting index Number :1\n",
      "Enter ending index Number :3\n",
      "[2, 3, 4]\n"
     ]
    }
   ],
   "source": [
    "li = []\n",
    "n = int(input('Enter Number :'))\n",
    "for i in range(n):\n",
    "    li.append(int(input('Enter Element :')))\n",
    "print(li)\n",
    "s = int(input('Enter starting index Number :'))\n",
    "e = int(input('Enter ending index Number :'))\n",
    "n1=li[s:e+1:]\n",
    "print(n1)"
   ]
  },
  {
   "cell_type": "markdown",
   "metadata": {},
   "source": [
    "### 09) Input comma separated elements, convert into list and print."
   ]
  },
  {
   "cell_type": "code",
   "execution_count": 25,
   "metadata": {},
   "outputs": [
    {
     "name": "stdout",
     "output_type": "stream",
     "text": [
      "Enter Number comma sepreted:5,5,8,543,43453,534\n",
      "list is ['5', '5', '8', '543', '43453', '534']\n"
     ]
    }
   ],
   "source": [
    "n = input('Enter Number comma sepreted:')\n",
    "\n",
    "k=n.split(',')\n",
    "print(\"list is\",k)"
   ]
  },
  {
   "cell_type": "markdown",
   "metadata": {},
   "source": [
    "### 01) WAP to count Even and Odd numbers in a List."
   ]
  },
  {
   "cell_type": "code",
   "execution_count": 27,
   "metadata": {},
   "outputs": [
    {
     "name": "stdout",
     "output_type": "stream",
     "text": [
      "Enter Number :5\n",
      "Enter Element :8\n",
      "Enter Element :97\n",
      "Enter Element :7\n",
      "Enter Element :54\n",
      "Enter Element :4\n",
      "List: [8, 97, 7, 54, 4]\n",
      "Count even number 3\n",
      "Count odd number 2\n"
     ]
    }
   ],
   "source": [
    "li = []\n",
    "n = int(input('Enter Number :'))\n",
    "for i in range(n):\n",
    "    li.append(int(input('Enter Element :')))\n",
    "\n",
    "e = 0\n",
    "o = 0\n",
    "\n",
    "for i in li:\n",
    "    if i % 2 == 0:\n",
    "        e += 1\n",
    "    else:\n",
    "        o += 1\n",
    "\n",
    "print(\"List:\", li)\n",
    "print(\"Count even number\", e)\n",
    "print(\"Count odd number\", o)\n"
   ]
  },
  {
   "cell_type": "markdown",
   "metadata": {},
   "source": [
    "### 02) Python program to find N largest and smallest elements from the list"
   ]
  },
  {
   "cell_type": "code",
   "execution_count": 61,
   "metadata": {},
   "outputs": [
    {
     "name": "stdout",
     "output_type": "stream",
     "text": [
      "Enter Number :5\n",
      "Enter Element :1\n",
      "Enter Element :2\n",
      "Enter Element :3\n",
      "Enter Element :4\n",
      "Enter Element :5\n",
      "Enter Number :2\n",
      "[5, 4]\n"
     ]
    }
   ],
   "source": [
    "def maxele(li, n):\n",
    "   o = []\n",
    "   for i in range(0, n):\n",
    "        max1 = 0\n",
    " \n",
    "        for j in range(len(li)):\n",
    "            if li[j] > max1:\n",
    "                max1 = li[j]\n",
    " \n",
    "        li.remove(max1)\n",
    "        o.append(max1)\n",
    "   print(o)\n",
    " \n",
    " \n",
    "li = []\n",
    "n = int(input('Enter Number :'))\n",
    "for i in range(n):\n",
    "    li.append(int(input('Enter Element :')))\n",
    "n = int(input('Enter Number :'))\n",
    "maxele(li, n)\n"
   ]
  },
  {
   "cell_type": "markdown",
   "metadata": {},
   "source": [
    "### 03) WAP to print duplicates from a list of integers"
   ]
  },
  {
   "cell_type": "code",
   "execution_count": 63,
   "metadata": {},
   "outputs": [
    {
     "name": "stdout",
     "output_type": "stream",
     "text": [
      "Enter Number :5\n",
      "Enter Element :1\n",
      "Enter Element :2\n",
      "Enter Element :3\n",
      "Enter Element :1\n",
      "Enter Element :5\n",
      "[1]\n"
     ]
    }
   ],
   "source": [
    "\n",
    "def dup(x):\n",
    "    _size = len(x)\n",
    "    ndup = []\n",
    "    for i in range(_size):\n",
    "        k = i + 1\n",
    "        for j in range(k, _size):\n",
    "            if x[i] == x[j] and x[i] not in ndup:\n",
    "                ndup.append(x[i])\n",
    "    return ndup\n",
    "\n",
    "li = []\n",
    "n = int(input('Enter Number :'))\n",
    "for i in range(n):\n",
    "    li.append(int(input('Enter Element :')))\n",
    "print (dup(li))\n"
   ]
  }
 ],
 "metadata": {
  "kernelspec": {
   "display_name": "Python 3 (ipykernel)",
   "language": "python",
   "name": "python3"
  },
  "language_info": {
   "codemirror_mode": {
    "name": "ipython",
    "version": 3
   },
   "file_extension": ".py",
   "mimetype": "text/x-python",
   "name": "python",
   "nbconvert_exporter": "python",
   "pygments_lexer": "ipython3",
   "version": "3.11.5"
  }
 },
 "nbformat": 4,
 "nbformat_minor": 4
}
